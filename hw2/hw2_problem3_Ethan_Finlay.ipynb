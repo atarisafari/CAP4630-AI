{
  "nbformat": 4,
  "nbformat_minor": 0,
  "metadata": {
    "colab": {
      "name": "hw2_problem3_Ethan_Finlay.ipynb",
      "provenance": [],
      "collapsed_sections": [
        "GlwAAgojvZkR",
        "zdIPSz8lvZkX",
        "FB4EG3levZke",
        "fgsMy1c1J15y",
        "Xe3K5ALoJ158",
        "FMqP5D9FJ16C",
        "Tlb9hvD0J16H",
        "RXx5fcd8J16O",
        "XyUueKXRJ16R",
        "vWmmGqIlJ16S",
        "OEENYWUXJ16V",
        "aPMgL83LJ16b",
        "Te-z6ifaJ16g",
        "oiF_9lIpJ16j",
        "-yENk65XJ16n",
        "vtnEBQGkJ16v",
        "9L571QyVJ3Lq",
        "Ygth4-2yJ3L2",
        "Y7IHsCu82Z2b",
        "WSOQBfhi3P_t",
        "Q3LutopChKFt",
        "giD7LwypJ3L5",
        "DMCRcGXXJ3L5",
        "oR1c8weT8oP5",
        "Vsm3k0K_J3MF",
        "KbaCb1GtJ3MI",
        "wnhZLzNHJ3MM",
        "UR2xqf0OJ3MT"
      ],
      "machine_shape": "hm",
      "include_colab_link": true
    },
    "kernelspec": {
      "name": "python3",
      "display_name": "Python 3"
    },
    "accelerator": "GPU"
  },
  "cells": [
    {
      "cell_type": "markdown",
      "metadata": {
        "id": "view-in-github",
        "colab_type": "text"
      },
      "source": [
        "<a href=\"https://colab.research.google.com/github/atarisafari/CAP4630-AI/blob/master/hw2/hw2_problem3_Ethan_Finlay.ipynb\" target=\"_parent\"><img src=\"https://colab.research.google.com/assets/colab-badge.svg\" alt=\"Open In Colab\"/></a>"
      ]
    },
    {
      "cell_type": "markdown",
      "metadata": {
        "id": "rt44vyY1xW9b",
        "colab_type": "text"
      },
      "source": [
        "#CIFAR10 data set\n",
        "Classification with dense layers"
      ]
    },
    {
      "cell_type": "markdown",
      "metadata": {
        "colab_type": "text",
        "id": "491u_NoLvZjb"
      },
      "source": [
        "#Underfit Model\n",
        "The model is far too simple and can't properly explain the training or test data. "
      ]
    },
    {
      "cell_type": "markdown",
      "metadata": {
        "colab_type": "text",
        "id": "K7eCBhdCvZje"
      },
      "source": [
        "## Loading the CIFAR10 data set"
      ]
    },
    {
      "cell_type": "code",
      "metadata": {
        "colab_type": "code",
        "id": "3nKroi6ivZjf",
        "outputId": "fba30a59-3809-4f92-b226-48f8382dc6ca",
        "colab": {
          "base_uri": "https://localhost:8080/",
          "height": 51
        }
      },
      "source": [
        "%tensorflow_version 1.x\n",
        "import tensorflow as tf\n",
        "from tensorflow import keras\n",
        "\n",
        "cifar10 = keras.datasets.cifar10\n",
        "\n",
        "(train_images, train_labels), (test_images, test_labels) = cifar10.load_data()\n",
        "class_names = ['airplan', 'automobile', 'bird', 'cat', 'deer', 'dog', 'frog', 'horse', 'ship', 'truck']"
      ],
      "execution_count": 1,
      "outputs": [
        {
          "output_type": "stream",
          "text": [
            "Downloading data from https://www.cs.toronto.edu/~kriz/cifar-10-python.tar.gz\n",
            "170500096/170498071 [==============================] - 2s 0us/step\n"
          ],
          "name": "stdout"
        }
      ]
    },
    {
      "cell_type": "code",
      "metadata": {
        "colab_type": "code",
        "id": "wmwPNqiqvZj5",
        "colab": {}
      },
      "source": [
        "import matplotlib.pyplot as plt\n",
        "import numpy as np"
      ],
      "execution_count": 0,
      "outputs": []
    },
    {
      "cell_type": "markdown",
      "metadata": {
        "colab_type": "text",
        "id": "3yvdKN-7vZkC"
      },
      "source": [
        "## Preprocess the data"
      ]
    },
    {
      "cell_type": "code",
      "metadata": {
        "colab_type": "code",
        "id": "31d-ZzESvZkC",
        "colab": {}
      },
      "source": [
        "train_images = train_images / 255.0\n",
        "test_images = test_images / 255.0"
      ],
      "execution_count": 0,
      "outputs": []
    },
    {
      "cell_type": "markdown",
      "metadata": {
        "colab_type": "text",
        "id": "jYBeoCPWvZkK"
      },
      "source": [
        "##Build and Compile the Model"
      ]
    },
    {
      "cell_type": "code",
      "metadata": {
        "colab_type": "code",
        "outputId": "9e4d30e4-8727-4b96-920b-5faad19fcaac",
        "id": "BfjNqNDgvZkL",
        "colab": {
          "base_uri": "https://localhost:8080/",
          "height": 374
        }
      },
      "source": [
        "# set up the layers\n",
        "\n",
        "model = keras.Sequential([\n",
        "    keras.layers.Conv2D(32, (3, 3), activation='relu', input_shape=(32, 32, 3)), \n",
        "    keras.layers.MaxPooling2D((2, 2)),\n",
        "    keras.layers.Conv2D(64, (3, 3), activation='relu'),\n",
        "    keras.layers.MaxPooling2D((2, 2)),\n",
        "    keras.layers.Conv2D(64, (3, 3), activation='relu'),\n",
        "    keras.layers.Flatten(),\n",
        "    keras.layers.Dense(64, activation='relu'),\n",
        "    keras.layers.Dense(10, activation='softmax')\n",
        "])\n",
        "\n",
        "# compile the model\n",
        "model.compile(optimizer='adam', #Adaptive Moment Estimation\n",
        "             loss='sparse_categorical_crossentropy', #sparse_categorical_crossentropy for integers\n",
        "             metrics=['accuracy'])\n",
        "            \n",
        "\n",
        "# train the model\n",
        "epochs = 10\n",
        "history = model.fit(train_images, \n",
        "                      train_labels, \n",
        "                      epochs=epochs,  \n",
        "                      validation_data=(test_images, test_labels))\n"
      ],
      "execution_count": 8,
      "outputs": [
        {
          "output_type": "stream",
          "text": [
            "Train on 50000 samples, validate on 10000 samples\n",
            "Epoch 1/10\n",
            "50000/50000 [==============================] - 6s 121us/sample - loss: 1.5385 - acc: 0.4419 - val_loss: 1.2924 - val_acc: 0.5325\n",
            "Epoch 2/10\n",
            "50000/50000 [==============================] - 6s 118us/sample - loss: 1.1713 - acc: 0.5828 - val_loss: 1.1014 - val_acc: 0.6078\n",
            "Epoch 3/10\n",
            "50000/50000 [==============================] - 6s 119us/sample - loss: 1.0191 - acc: 0.6383 - val_loss: 0.9969 - val_acc: 0.6470\n",
            "Epoch 4/10\n",
            "50000/50000 [==============================] - 6s 118us/sample - loss: 0.9218 - acc: 0.6761 - val_loss: 0.9305 - val_acc: 0.6722\n",
            "Epoch 5/10\n",
            "50000/50000 [==============================] - 6s 117us/sample - loss: 0.8462 - acc: 0.7040 - val_loss: 0.9708 - val_acc: 0.6640\n",
            "Epoch 6/10\n",
            "50000/50000 [==============================] - 6s 118us/sample - loss: 0.7856 - acc: 0.7242 - val_loss: 0.8866 - val_acc: 0.6926\n",
            "Epoch 7/10\n",
            "50000/50000 [==============================] - 6s 117us/sample - loss: 0.7369 - acc: 0.7415 - val_loss: 0.8962 - val_acc: 0.6925\n",
            "Epoch 8/10\n",
            "50000/50000 [==============================] - 6s 117us/sample - loss: 0.6980 - acc: 0.7540 - val_loss: 0.8809 - val_acc: 0.7027\n",
            "Epoch 9/10\n",
            "50000/50000 [==============================] - 6s 118us/sample - loss: 0.6579 - acc: 0.7674 - val_loss: 0.8855 - val_acc: 0.6951\n",
            "Epoch 10/10\n",
            "50000/50000 [==============================] - 6s 118us/sample - loss: 0.6231 - acc: 0.7811 - val_loss: 0.8969 - val_acc: 0.7025\n"
          ],
          "name": "stdout"
        }
      ]
    },
    {
      "cell_type": "markdown",
      "metadata": {
        "colab_type": "text",
        "id": "GlwAAgojvZkR"
      },
      "source": [
        "### Evaluate accuracy"
      ]
    },
    {
      "cell_type": "code",
      "metadata": {
        "colab_type": "code",
        "outputId": "e43c8e4f-6940-4e0e-b9df-6d6540330f6b",
        "id": "kekig_NDvZkS",
        "colab": {
          "base_uri": "https://localhost:8080/",
          "height": 51
        }
      },
      "source": [
        "test_loss, test_acc = model.evaluate(test_images, test_labels)\n",
        "\n",
        "print('Test accuracy:', test_acc)"
      ],
      "execution_count": 11,
      "outputs": [
        {
          "output_type": "stream",
          "text": [
            "10000/10000 [==============================] - 1s 67us/sample - loss: 0.9062 - acc: 0.7139\n",
            "Test accuracy: 0.7139\n"
          ],
          "name": "stdout"
        }
      ]
    },
    {
      "cell_type": "markdown",
      "metadata": {
        "colab_type": "text",
        "id": "dsy9uVZ-vZkW"
      },
      "source": [
        "##Training/test loss/accuracy during training"
      ]
    },
    {
      "cell_type": "code",
      "metadata": {
        "colab_type": "code",
        "id": "x5YAPbldvZkY",
        "colab": {}
      },
      "source": [
        "history_dict = history.history\n",
        "loss_values = history_dict['loss']\n",
        "test_loss_values = history_dict['val_loss']\n",
        "epochs_range = range(1, epochs+1)"
      ],
      "execution_count": 0,
      "outputs": []
    },
    {
      "cell_type": "code",
      "metadata": {
        "colab_type": "code",
        "outputId": "791a2203-2d20-425f-8cdf-ff26700616ae",
        "id": "0q42DFV4vZka",
        "colab": {
          "base_uri": "https://localhost:8080/",
          "height": 295
        }
      },
      "source": [
        "plt.plot(epochs_range, loss_values, 'bo', label='Training loss')\n",
        "plt.plot(epochs_range, test_loss_values, 'ro', label='Test loss')\n",
        "plt.title('Training and test loss')\n",
        "plt.xlabel('Epochs')\n",
        "plt.ylabel('Loss')\n",
        "plt.legend()\n",
        "plt.show()"
      ],
      "execution_count": 13,
      "outputs": [
        {
          "output_type": "display_data",
          "data": {
            "image/png": "[encoded data removed]",
            "text/plain": [
              "<Figure size 432x288 with 1 Axes>"
            ]
          },
          "metadata": {
            "tags": []
          }
        }
      ]
    },
    {
      "cell_type": "code",
      "metadata": {
        "colab_type": "code",
        "id": "4iOMzvQKvZkf",
        "colab": {}
      },
      "source": [
        "acc_values = history_dict['acc']\n",
        "test_acc_values = history_dict['val_acc']"
      ],
      "execution_count": 0,
      "outputs": []
    },
    {
      "cell_type": "code",
      "metadata": {
        "colab_type": "code",
        "outputId": "e1a9cfd8-2a5c-41d9-c7d1-063d4a18e3e5",
        "id": "oe1PnTPnvZkj",
        "colab": {
          "base_uri": "https://localhost:8080/",
          "height": 295
        }
      },
      "source": [
        "plt.plot(epochs_range, acc_values, 'bo', label='Training accuracy')\n",
        "plt.plot(epochs_range, test_acc_values, 'ro', label='Test accuracy')\n",
        "plt.title('Training and test accuracy')\n",
        "plt.xlabel('Epochs')\n",
        "plt.ylabel('Accuracy')\n",
        "plt.legend()\n",
        "plt.show()"
      ],
      "execution_count": 15,
      "outputs": [
        {
          "output_type": "display_data",
          "data": {
            "image/png": "[encoded data removed]",
            "text/plain": [
              "<Figure size 432x288 with 1 Axes>"
            ]
          },
          "metadata": {
            "tags": []
          }
        }
      ]
    },
    {
      "cell_type": "markdown",
      "metadata": {
        "colab_type": "text",
        "id": "fgsMy1c1J15y"
      },
      "source": [
        "#Overfit Model\n",
        "A model that overfits is essentially \"memorizing\" the training data rather than finding a general set of rules, as we'd expect. This can be due to overexposure to the training data (too many epochs) and/or an overcomplicated model. \n",
        "\n",
        "An overfit model will not be able to explain any test data that it wasnt explicitly trained on since all it did was memorize."
      ]
    },
    {
      "cell_type": "markdown",
      "metadata": {
        "colab_type": "text",
        "id": "Xe3K5ALoJ158"
      },
      "source": [
        "## Loading the CIFAR10 data set"
      ]
    },
    {
      "cell_type": "code",
      "metadata": {
        "colab_type": "code",
        "id": "iNT8X0vGJ159",
        "colab": {}
      },
      "source": [
        "%tensorflow_version 1.x\n",
        "import tensorflow as tf\n",
        "from tensorflow import keras\n",
        "\n",
        "cifar10 = keras.datasets.cifar10\n",
        "\n",
        "(train_images, train_labels), (test_images, test_labels) = cifar10.load_data()\n",
        "class_names = ['airplan', 'automobile', 'bird', 'cat', 'deer', 'dog', 'frog', 'horse', 'ship', 'truck']"
      ],
      "execution_count": 0,
      "outputs": []
    },
    {
      "cell_type": "markdown",
      "metadata": {
        "colab_type": "text",
        "id": "RXx5fcd8J16O"
      },
      "source": [
        "## Preprocess the data"
      ]
    },
    {
      "cell_type": "code",
      "metadata": {
        "colab_type": "code",
        "id": "nCNx5W6FJ16O",
        "colab": {}
      },
      "source": [
        "train_images = train_images / 255.0\n",
        "test_images = test_images / 255.0"
      ],
      "execution_count": 0,
      "outputs": []
    },
    {
      "cell_type": "markdown",
      "metadata": {
        "colab_type": "text",
        "id": "XyUueKXRJ16R"
      },
      "source": [
        "##Build and Compile Model"
      ]
    },
    {
      "cell_type": "code",
      "metadata": {
        "colab_type": "code",
        "outputId": "144b4bb3-bebc-402f-9b51-c955adca2996",
        "id": "eAzB891LJ16T",
        "colab": {
          "base_uri": "https://localhost:8080/",
          "height": 714
        }
      },
      "source": [
        "# set up the layers\n",
        "\n",
        "model = keras.Sequential([\n",
        "    keras.layers.Conv2D(32, (3, 3), activation='relu', input_shape=(32, 32, 3)), \n",
        "    keras.layers.MaxPooling2D((2, 2)),\n",
        "    #\n",
        "    keras.layers.Conv2D(64, (3, 3), activation='relu'),\n",
        "    keras.layers.MaxPooling2D((2, 2)),\n",
        "    #\n",
        "    keras.layers.Conv2D(64, (3, 3), activation='sigmoid'),\n",
        "    #\n",
        "    keras.layers.Flatten(),\n",
        "    keras.layers.Dense(1024, activation='relu'),\n",
        "    keras.layers.Dense(256, activation='sigmoid'), \n",
        "    keras.layers.Dense(64, activation='sigmoid'), \n",
        "    keras.layers.Dense(10, activation='softmax')\n",
        "])\n",
        "\n",
        "# compile the model\n",
        "model.compile(optimizer='adam', #Adaptive Moment Estimation\n",
        "             loss='sparse_categorical_crossentropy', #sparse_categorical_crossentropy for integers\n",
        "             metrics=['accuracy'])\n",
        "            \n",
        "\n",
        "# train the model\n",
        "epochs = 20\n",
        "history = model.fit(train_images, \n",
        "                      train_labels, \n",
        "                      epochs=epochs,  \n",
        "                      validation_data=(test_images, test_labels))\n"
      ],
      "execution_count": 19,
      "outputs": [
        {
          "output_type": "stream",
          "text": [
            "Train on 50000 samples, validate on 10000 samples\n",
            "Epoch 1/20\n",
            "50000/50000 [==============================] - 7s 131us/sample - loss: 1.7970 - acc: 0.3293 - val_loss: 1.4564 - val_acc: 0.4674\n",
            "Epoch 2/20\n",
            "50000/50000 [==============================] - 6s 127us/sample - loss: 1.3653 - acc: 0.5089 - val_loss: 1.2529 - val_acc: 0.5555\n",
            "Epoch 3/20\n",
            "50000/50000 [==============================] - 6s 127us/sample - loss: 1.1537 - acc: 0.5930 - val_loss: 1.1062 - val_acc: 0.6121\n",
            "Epoch 4/20\n",
            "50000/50000 [==============================] - 6s 127us/sample - loss: 1.0050 - acc: 0.6483 - val_loss: 1.0024 - val_acc: 0.6481\n",
            "Epoch 5/20\n",
            "50000/50000 [==============================] - 6s 127us/sample - loss: 0.8942 - acc: 0.6895 - val_loss: 0.9547 - val_acc: 0.6694\n",
            "Epoch 6/20\n",
            "50000/50000 [==============================] - 6s 127us/sample - loss: 0.7987 - acc: 0.7208 - val_loss: 0.8920 - val_acc: 0.6929\n",
            "Epoch 7/20\n",
            "50000/50000 [==============================] - 6s 127us/sample - loss: 0.7082 - acc: 0.7539 - val_loss: 0.9111 - val_acc: 0.6896\n",
            "Epoch 8/20\n",
            "50000/50000 [==============================] - 6s 127us/sample - loss: 0.6170 - acc: 0.7869 - val_loss: 0.8996 - val_acc: 0.7040\n",
            "Epoch 9/20\n",
            "50000/50000 [==============================] - 6s 127us/sample - loss: 0.5335 - acc: 0.8172 - val_loss: 0.9218 - val_acc: 0.6984\n",
            "Epoch 10/20\n",
            "50000/50000 [==============================] - 6s 127us/sample - loss: 0.4517 - acc: 0.8445 - val_loss: 0.9430 - val_acc: 0.7053\n",
            "Epoch 11/20\n",
            "50000/50000 [==============================] - 6s 127us/sample - loss: 0.3747 - acc: 0.8712 - val_loss: 0.9940 - val_acc: 0.7067\n",
            "Epoch 12/20\n",
            "50000/50000 [==============================] - 6s 126us/sample - loss: 0.3040 - acc: 0.8965 - val_loss: 1.0654 - val_acc: 0.7053\n",
            "Epoch 13/20\n",
            "50000/50000 [==============================] - 6s 127us/sample - loss: 0.2479 - acc: 0.9156 - val_loss: 1.1555 - val_acc: 0.6952\n",
            "Epoch 14/20\n",
            "50000/50000 [==============================] - 6s 127us/sample - loss: 0.2041 - acc: 0.9313 - val_loss: 1.2007 - val_acc: 0.7005\n",
            "Epoch 15/20\n",
            "50000/50000 [==============================] - 6s 126us/sample - loss: 0.1662 - acc: 0.9441 - val_loss: 1.2890 - val_acc: 0.6971\n",
            "Epoch 16/20\n",
            "50000/50000 [==============================] - 6s 127us/sample - loss: 0.1442 - acc: 0.9516 - val_loss: 1.3813 - val_acc: 0.6910\n",
            "Epoch 17/20\n",
            "50000/50000 [==============================] - 6s 127us/sample - loss: 0.1215 - acc: 0.9577 - val_loss: 1.4493 - val_acc: 0.6878\n",
            "Epoch 18/20\n",
            "50000/50000 [==============================] - 6s 130us/sample - loss: 0.1081 - acc: 0.9632 - val_loss: 1.5261 - val_acc: 0.6915\n",
            "Epoch 19/20\n",
            "50000/50000 [==============================] - 7s 131us/sample - loss: 0.0976 - acc: 0.9675 - val_loss: 1.6063 - val_acc: 0.6879\n",
            "Epoch 20/20\n",
            "50000/50000 [==============================] - 6s 128us/sample - loss: 0.0899 - acc: 0.9693 - val_loss: 1.6149 - val_acc: 0.6882\n"
          ],
          "name": "stdout"
        }
      ]
    },
    {
      "cell_type": "markdown",
      "metadata": {
        "colab_type": "text",
        "id": "aPMgL83LJ16b"
      },
      "source": [
        "### Evaluate accuracy"
      ]
    },
    {
      "cell_type": "code",
      "metadata": {
        "colab_type": "code",
        "outputId": "0162c5a5-b6b3-4e4e-ccd1-98c5f4423725",
        "id": "QSep88_lJ16c",
        "colab": {
          "base_uri": "https://localhost:8080/",
          "height": 51
        }
      },
      "source": [
        "test_loss, test_acc = model.evaluate(test_images, test_labels)\n",
        "\n",
        "print('Test accuracy:', test_acc)"
      ],
      "execution_count": 20,
      "outputs": [
        {
          "output_type": "stream",
          "text": [
            "10000/10000 [==============================] - 1s 70us/sample - loss: 1.6149 - acc: 0.6882\n",
            "Test accuracy: 0.6882\n"
          ],
          "name": "stdout"
        }
      ]
    },
    {
      "cell_type": "markdown",
      "metadata": {
        "colab_type": "text",
        "id": "Te-z6ifaJ16g"
      },
      "source": [
        "##Training/test loss/accuracy during training"
      ]
    },
    {
      "cell_type": "code",
      "metadata": {
        "colab_type": "code",
        "id": "VRWTppoiJ16h",
        "colab": {}
      },
      "source": [
        "history_dict = history.history\n",
        "loss_values = history_dict['loss']\n",
        "test_loss_values = history_dict['val_loss']\n",
        "epochs_range = range(1, epochs+1)"
      ],
      "execution_count": 0,
      "outputs": []
    },
    {
      "cell_type": "code",
      "metadata": {
        "colab_type": "code",
        "outputId": "a038da2a-abcc-41d0-8040-b7113c25df51",
        "id": "vCxqfKHKJ16k",
        "colab": {
          "base_uri": "https://localhost:8080/",
          "height": 295
        }
      },
      "source": [
        "plt.plot(epochs_range, loss_values, 'bo', label='Training loss')\n",
        "plt.plot(epochs_range, test_loss_values, 'ro', label='Test loss')\n",
        "plt.title('Training and test loss')\n",
        "plt.xlabel('Epochs')\n",
        "plt.ylabel('Loss')\n",
        "plt.legend()\n",
        "plt.show()"
      ],
      "execution_count": 0,
      "outputs": [
        {
          "output_type": "display_data",
          "data": {
            "image/png": "[encoded data removed]",
            "text/plain": [
              "<Figure size 432x288 with 1 Axes>"
            ]
          },
          "metadata": {
            "tags": []
          }
        }
      ]
    },
    {
      "cell_type": "code",
      "metadata": {
        "colab_type": "code",
        "id": "a4kzNF6hJ16o",
        "colab": {}
      },
      "source": [
        "acc_values = history_dict['acc']\n",
        "test_acc_values = history_dict['val_acc']"
      ],
      "execution_count": 0,
      "outputs": []
    },
    {
      "cell_type": "code",
      "metadata": {
        "colab_type": "code",
        "outputId": "a74461e9-ca53-4ea5-b043-b2c74c452bbe",
        "id": "WSX7yoSPJ16q",
        "colab": {
          "base_uri": "https://localhost:8080/",
          "height": 295
        }
      },
      "source": [
        "plt.plot(epochs_range, acc_values, 'bo', label='Training accuracy')\n",
        "plt.plot(epochs_range, test_acc_values, 'ro', label='Test accuracy')\n",
        "plt.title('Training and test accuracy')\n",
        "plt.xlabel('Epochs')\n",
        "plt.ylabel('Accuracy')\n",
        "plt.legend()\n",
        "plt.show()"
      ],
      "execution_count": 0,
      "outputs": [
        {
          "output_type": "display_data",
          "data": {
            "image/png": "[encoded data removed]",
            "text/plain": [
              "<Figure size 432x288 with 1 Axes>"
            ]
          },
          "metadata": {
            "tags": []
          }
        }
      ]
    },
    {
      "cell_type": "markdown",
      "metadata": {
        "colab_type": "text",
        "id": "0n9UjCbwJ3Lo"
      },
      "source": [
        "#\"Pretty Good\" Model\n",
        "This model is 'just right'. Essentially, we didn't overcomplicate it or make it too simple, we didn't train for too many epochs, and we used dropout to the fight overfitting. "
      ]
    },
    {
      "cell_type": "markdown",
      "metadata": {
        "colab_type": "text",
        "id": "9L571QyVJ3Lq"
      },
      "source": [
        "## Loading the CIFAR10 data set"
      ]
    },
    {
      "cell_type": "code",
      "metadata": {
        "colab_type": "code",
        "id": "XTAH8lk_J3Lr",
        "colab": {
          "base_uri": "https://localhost:8080/",
          "height": 34
        },
        "outputId": "005a3688-dfa8-4a18-8a02-b1f445f38dff"
      },
      "source": [
        "%tensorflow_version 1.x\n",
        "import keras\n",
        "from keras.models import Sequential\n",
        "from keras.utils import np_utils\n",
        "from keras.preprocessing.image import ImageDataGenerator\n",
        "from keras.layers import Dense, Activation, Flatten, Dropout, BatchNormalization\n",
        "from keras.layers import Conv2D, MaxPooling2D\n",
        "from keras import regularizers\n",
        "from keras.callbacks import LearningRateScheduler\n",
        "import numpy as np\n",
        "\n",
        "cifar10 = keras.datasets.cifar10\n",
        "\n",
        "(train_images_original, train_labels_original), (test_images_original, test_labels_original) = cifar10.load_data()\n",
        "\n",
        "class_names = ['airplan', 'automobile', 'bird', 'cat', 'deer', 'dog', 'frog', 'horse', 'ship', 'truck']"
      ],
      "execution_count": 21,
      "outputs": [
        {
          "output_type": "stream",
          "text": [
            "Using TensorFlow backend.\n"
          ],
          "name": "stderr"
        }
      ]
    },
    {
      "cell_type": "markdown",
      "metadata": {
        "colab_type": "text",
        "id": "Ygth4-2yJ3L2"
      },
      "source": [
        "## Preprocess the data"
      ]
    },
    {
      "cell_type": "code",
      "metadata": {
        "id": "-jiIVg9u2PG7",
        "colab_type": "code",
        "colab": {}
      },
      "source": [
        "train_images = train_images_original.astype('float32')\n",
        "test_images = test_images_original.astype('float32')"
      ],
      "execution_count": 0,
      "outputs": []
    },
    {
      "cell_type": "markdown",
      "metadata": {
        "id": "Y7IHsCu82Z2b",
        "colab_type": "text"
      },
      "source": [
        "### Calculating Z-Score"
      ]
    },
    {
      "cell_type": "code",
      "metadata": {
        "id": "MVkdlr9X2cm4",
        "colab_type": "code",
        "colab": {}
      },
      "source": [
        "# z-score\n",
        "mean = np.mean(train_images,axis=(0,1,2,3))\n",
        "std = np.std(train_images,axis=(0,1,2,3))\n",
        "train_images = (train_images-mean)/(std+1e-7)\n",
        "test_images = (test_images-mean)/(std+1e-7)"
      ],
      "execution_count": 0,
      "outputs": []
    },
    {
      "cell_type": "code",
      "metadata": {
        "colab_type": "code",
        "id": "xns3N9MAJ3L2",
        "colab": {}
      },
      "source": [
        "train_images = train_images / 255.0\n",
        "test_images = test_images / 255.0"
      ],
      "execution_count": 0,
      "outputs": []
    },
    {
      "cell_type": "markdown",
      "metadata": {
        "id": "WSOQBfhi3P_t",
        "colab_type": "text"
      },
      "source": [
        "###To Categorical"
      ]
    },
    {
      "cell_type": "code",
      "metadata": {
        "id": "fcXmCcuI3SwV",
        "colab_type": "code",
        "colab": {}
      },
      "source": [
        "num_classes = len(class_names)\n",
        "train_labels = np_utils.to_categorical(train_labels_original,num_classes)\n",
        "test_labels = np_utils.to_categorical(test_labels_original,num_classes)"
      ],
      "execution_count": 0,
      "outputs": []
    },
    {
      "cell_type": "markdown",
      "metadata": {
        "colab_type": "text",
        "id": "giD7LwypJ3L5"
      },
      "source": [
        "##Build and Compile Model"
      ]
    },
    {
      "cell_type": "code",
      "metadata": {
        "colab_type": "code",
        "outputId": "737bbd52-1c46-4da8-9a62-5dc594fcaf5b",
        "id": "AnT58NV2J3L6",
        "colab": {
          "base_uri": "https://localhost:8080/",
          "height": 496
        }
      },
      "source": [
        "# set up the layers\n",
        "\n",
        "weight_decay = 1e-4\n",
        "model = Sequential()\n",
        "model.add(Conv2D(32, (3,3), padding='same', kernel_regularizer=regularizers.l2(weight_decay), input_shape=train_images.shape[1:]))\n",
        "model.add(Activation('elu'))\n",
        "model.add(BatchNormalization())\n",
        "model.add(Conv2D(32, (3,3), padding='same', kernel_regularizer=regularizers.l2(weight_decay)))\n",
        "model.add(Activation('elu'))\n",
        "model.add(BatchNormalization())\n",
        "model.add(MaxPooling2D(pool_size=(2,2)))\n",
        "model.add(Dropout(0.2))\n",
        " \n",
        "model.add(Conv2D(64, (3,3), padding='same', kernel_regularizer=regularizers.l2(weight_decay)))\n",
        "model.add(Activation('elu'))\n",
        "model.add(BatchNormalization())\n",
        "model.add(Conv2D(64, (3,3), padding='same', kernel_regularizer=regularizers.l2(weight_decay)))\n",
        "model.add(Activation('elu'))\n",
        "model.add(BatchNormalization())\n",
        "model.add(MaxPooling2D(pool_size=(2,2)))\n",
        "model.add(Dropout(0.3))\n",
        " \n",
        "model.add(Conv2D(128, (3,3), padding='same', kernel_regularizer=regularizers.l2(weight_decay)))\n",
        "model.add(Activation('elu'))\n",
        "model.add(BatchNormalization())\n",
        "model.add(Conv2D(128, (3,3), padding='same', kernel_regularizer=regularizers.l2(weight_decay)))\n",
        "model.add(Activation('elu'))\n",
        "model.add(BatchNormalization())\n",
        "model.add(MaxPooling2D(pool_size=(2,2)))\n",
        "model.add(Dropout(0.4))# 40% chance of using any given neuron\n",
        " \n",
        "model.add(Flatten())\n",
        "model.add(Dense(num_classes, activation='softmax'))#Output layer using softmax"
      ],
      "execution_count": 26,
      "outputs": [
        {
          "output_type": "stream",
          "text": [
            "WARNING:tensorflow:From /usr/local/lib/python3.6/dist-packages/keras/backend/tensorflow_backend.py:66: The name tf.get_default_graph is deprecated. Please use tf.compat.v1.get_default_graph instead.\n",
            "\n",
            "WARNING:tensorflow:From /usr/local/lib/python3.6/dist-packages/keras/backend/tensorflow_backend.py:541: The name tf.placeholder is deprecated. Please use tf.compat.v1.placeholder instead.\n",
            "\n",
            "WARNING:tensorflow:From /usr/local/lib/python3.6/dist-packages/keras/backend/tensorflow_backend.py:4432: The name tf.random_uniform is deprecated. Please use tf.random.uniform instead.\n",
            "\n",
            "WARNING:tensorflow:From /usr/local/lib/python3.6/dist-packages/keras/backend/tensorflow_backend.py:190: The name tf.get_default_session is deprecated. Please use tf.compat.v1.get_default_session instead.\n",
            "\n",
            "WARNING:tensorflow:From /usr/local/lib/python3.6/dist-packages/keras/backend/tensorflow_backend.py:197: The name tf.ConfigProto is deprecated. Please use tf.compat.v1.ConfigProto instead.\n",
            "\n",
            "WARNING:tensorflow:From /usr/local/lib/python3.6/dist-packages/keras/backend/tensorflow_backend.py:203: The name tf.Session is deprecated. Please use tf.compat.v1.Session instead.\n",
            "\n",
            "WARNING:tensorflow:From /usr/local/lib/python3.6/dist-packages/keras/backend/tensorflow_backend.py:207: The name tf.global_variables is deprecated. Please use tf.compat.v1.global_variables instead.\n",
            "\n",
            "WARNING:tensorflow:From /usr/local/lib/python3.6/dist-packages/keras/backend/tensorflow_backend.py:216: The name tf.is_variable_initialized is deprecated. Please use tf.compat.v1.is_variable_initialized instead.\n",
            "\n",
            "WARNING:tensorflow:From /usr/local/lib/python3.6/dist-packages/keras/backend/tensorflow_backend.py:223: The name tf.variables_initializer is deprecated. Please use tf.compat.v1.variables_initializer instead.\n",
            "\n",
            "WARNING:tensorflow:From /usr/local/lib/python3.6/dist-packages/keras/backend/tensorflow_backend.py:2041: The name tf.nn.fused_batch_norm is deprecated. Please use tf.compat.v1.nn.fused_batch_norm instead.\n",
            "\n",
            "WARNING:tensorflow:From /usr/local/lib/python3.6/dist-packages/keras/backend/tensorflow_backend.py:148: The name tf.placeholder_with_default is deprecated. Please use tf.compat.v1.placeholder_with_default instead.\n",
            "\n",
            "WARNING:tensorflow:From /usr/local/lib/python3.6/dist-packages/keras/backend/tensorflow_backend.py:4267: The name tf.nn.max_pool is deprecated. Please use tf.nn.max_pool2d instead.\n",
            "\n",
            "WARNING:tensorflow:From /usr/local/lib/python3.6/dist-packages/keras/backend/tensorflow_backend.py:3733: calling dropout (from tensorflow.python.ops.nn_ops) with keep_prob is deprecated and will be removed in a future version.\n",
            "Instructions for updating:\n",
            "Please use `rate` instead of `keep_prob`. Rate should be set to `rate = 1 - keep_prob`.\n"
          ],
          "name": "stdout"
        }
      ]
    },
    {
      "cell_type": "code",
      "metadata": {
        "id": "9orQ6djo44bk",
        "colab_type": "code",
        "colab": {}
      },
      "source": [
        "# Utilizing Data Augmentation\n",
        "datagen = ImageDataGenerator(\n",
        "    rotation_range=15,\n",
        "    width_shift_range=0.1,\n",
        "    height_shift_range=0.1,\n",
        "    horizontal_flip=True,\n",
        "    )\n",
        "datagen.fit(train_images)"
      ],
      "execution_count": 0,
      "outputs": []
    },
    {
      "cell_type": "code",
      "metadata": {
        "id": "Jmzp0CQy2-Zp",
        "colab_type": "code",
        "colab": {
          "base_uri": "https://localhost:8080/",
          "height": 105
        },
        "outputId": "b749ea21-ddcb-4d7e-958e-2949fcd0eaa1"
      },
      "source": [
        "def lr_schedule(epoch):\n",
        "    lrate = 0.001\n",
        "    if epoch > 75:\n",
        "        lrate = 0.0005\n",
        "    if epoch > 100:\n",
        "        lrate = 0.0003\n",
        "    return lrate\n",
        "\n",
        "# Compile the model\n",
        "batch_size = 64\n",
        " \n",
        "opt_rms = keras.optimizers.rmsprop(lr=0.001,decay=1e-6)\n",
        "model.compile(optimizer=opt_rms,\n",
        "              loss='categorical_crossentropy', #categorical_crossentropy for One Hot Encoding\n",
        "              metrics=['accuracy'])"
      ],
      "execution_count": 28,
      "outputs": [
        {
          "output_type": "stream",
          "text": [
            "WARNING:tensorflow:From /usr/local/lib/python3.6/dist-packages/keras/optimizers.py:793: The name tf.train.Optimizer is deprecated. Please use tf.compat.v1.train.Optimizer instead.\n",
            "\n",
            "WARNING:tensorflow:From /usr/local/lib/python3.6/dist-packages/keras/backend/tensorflow_backend.py:3576: The name tf.log is deprecated. Please use tf.math.log instead.\n",
            "\n"
          ],
          "name": "stdout"
        }
      ]
    },
    {
      "cell_type": "code",
      "metadata": {
        "colab_type": "code",
        "outputId": "8eaa7328-5e97-4cee-ea44-57cc5e1e6dc5",
        "id": "9prROWSnJ3L9",
        "colab": {
          "base_uri": "https://localhost:8080/",
          "height": 428
        }
      },
      "source": [
        "epochs = 125\n",
        "\n",
        "history = model.fit_generator(datagen.flow(train_images, train_labels, batch_size=batch_size),\n",
        "                              steps_per_epoch=train_images.shape[0] // batch_size,\n",
        "                              epochs=epochs,\n",
        "                              verbose=1,\n",
        "                              validation_data=(test_images,test_labels),\n",
        "                              callbacks=[LearningRateScheduler(lr_schedule)])\n"
      ],
      "execution_count": 0,
      "outputs": [
        {
          "output_type": "stream",
          "text": [
            "WARNING:tensorflow:From /usr/local/lib/python3.6/dist-packages/tensorflow_core/python/ops/math_grad.py:1424: where (from tensorflow.python.ops.array_ops) is deprecated and will be removed in a future version.\n",
            "Instructions for updating:\n",
            "Use tf.where in 2.0, which has the same broadcast rule as np.where\n",
            "WARNING:tensorflow:From /usr/local/lib/python3.6/dist-packages/keras/backend/tensorflow_backend.py:1033: The name tf.assign_add is deprecated. Please use tf.compat.v1.assign_add instead.\n",
            "\n",
            "WARNING:tensorflow:From /usr/local/lib/python3.6/dist-packages/keras/backend/tensorflow_backend.py:1020: The name tf.assign is deprecated. Please use tf.compat.v1.assign instead.\n",
            "\n",
            "Epoch 1/125\n",
            "781/781 [==============================] - 23s 29ms/step - loss: 1.9359 - acc: 0.4124 - val_loss: 6.5149 - val_acc: 0.1493\n",
            "Epoch 2/125\n",
            "781/781 [==============================] - 22s 28ms/step - loss: 1.3209 - acc: 0.5773 - val_loss: 6.2430 - val_acc: 0.1235\n",
            "Epoch 3/125\n",
            "781/781 [==============================] - 22s 28ms/step - loss: 1.1285 - acc: 0.6413 - val_loss: 2.6693 - val_acc: 0.2596\n",
            "Epoch 4/125\n",
            "781/781 [==============================] - 21s 27ms/step - loss: 1.0175 - acc: 0.6789 - val_loss: 3.4739 - val_acc: 0.2392\n",
            "Epoch 5/125\n",
            "781/781 [==============================] - 21s 27ms/step - loss: 0.9473 - acc: 0.7030 - val_loss: 1.6330 - val_acc: 0.5366\n",
            "Epoch 6/125\n",
            "781/781 [==============================] - 21s 27ms/step - loss: 0.8921 - acc: 0.7223 - val_loss: 3.9481 - val_acc: 0.1514\n",
            "Epoch 7/125\n",
            "781/781 [==============================] - 21s 27ms/step - loss: 0.8612 - acc: 0.7374 - val_loss: 4.6692 - val_acc: 0.2128\n",
            "Epoch 8/125\n",
            "174/781 [=====>........................] - ETA: 16s - loss: 0.8387 - acc: 0.7466"
          ],
          "name": "stdout"
        }
      ]
    },
    {
      "cell_type": "markdown",
      "metadata": {
        "id": "CVVkXUGI8CZi",
        "colab_type": "text"
      },
      "source": [
        "### Save Model"
      ]
    },
    {
      "cell_type": "code",
      "metadata": {
        "id": "zUfu2bAk8FSR",
        "colab_type": "code",
        "colab": {}
      },
      "source": [
        "model_json = model.to_json()\n",
        "with open('model.json', 'w') as json_file:\n",
        "    json_file.write(model_json)\n",
        "model.save_weights('model.h5') "
      ],
      "execution_count": 0,
      "outputs": []
    },
    {
      "cell_type": "markdown",
      "metadata": {
        "id": "l9mAw6KT8apn",
        "colab_type": "text"
      },
      "source": [
        "### Load Model"
      ]
    },
    {
      "cell_type": "code",
      "metadata": {
        "id": "WTR42ku58XwM",
        "colab_type": "code",
        "colab": {}
      },
      "source": [
        "# Grab our trained CNN\n",
        "json_file = open('model.json', 'r')\n",
        "loaded_model_json = json_file.read()\n",
        "json_file.close()\n",
        "model = model_from_json(loaded_model_json)\n",
        "model.load_weights('model.h5')"
      ],
      "execution_count": 0,
      "outputs": []
    },
    {
      "cell_type": "markdown",
      "metadata": {
        "colab_type": "text",
        "id": "jBs8PHfXJ3MB"
      },
      "source": [
        "### Evaluate accuracy"
      ]
    },
    {
      "cell_type": "code",
      "metadata": {
        "colab_type": "code",
        "outputId": "6083c50c-a182-47d0-a8b4-121ffa90beb4",
        "id": "GU9vhoUEJ3MB",
        "colab": {
          "base_uri": "https://localhost:8080/",
          "height": 51
        }
      },
      "source": [
        "test_loss, test_acc = model.evaluate(test_images, test_labels)\n",
        "\n",
        "print('Test accuracy:', test_acc)"
      ],
      "execution_count": 0,
      "outputs": [
        {
          "output_type": "stream",
          "text": [
            "10000/10000 [==============================] - 1s 93us/step\n",
            "Test accuracy: 0.8416\n"
          ],
          "name": "stdout"
        }
      ]
    },
    {
      "cell_type": "markdown",
      "metadata": {
        "colab_type": "text",
        "id": "Vsm3k0K_J3MF"
      },
      "source": [
        "##Training/test loss/accuracy during training"
      ]
    },
    {
      "cell_type": "code",
      "metadata": {
        "colab_type": "code",
        "id": "-wseu3RfJ3MG",
        "colab": {}
      },
      "source": [
        "history_dict = history.history\n",
        "loss_values = history_dict['loss']\n",
        "test_loss_values = history_dict['val_loss']\n",
        "epochs_range = range(1, epochs+1)"
      ],
      "execution_count": 0,
      "outputs": []
    },
    {
      "cell_type": "code",
      "metadata": {
        "colab_type": "code",
        "outputId": "44b82db2-b160-40fe-9082-5670e3608847",
        "id": "QHDZ9oTUJ3MJ",
        "colab": {
          "base_uri": "https://localhost:8080/",
          "height": 295
        }
      },
      "source": [
        "import matplotlib.pyplot as plt\n",
        "\n",
        "plt.plot(epochs_range, loss_values, 'bo', label='Training loss')\n",
        "plt.plot(epochs_range, test_loss_values, 'ro', label='Test loss')\n",
        "plt.title('Training and test loss')\n",
        "plt.xlabel('Epochs')\n",
        "plt.ylabel('Loss')\n",
        "plt.legend()\n",
        "plt.show()"
      ],
      "execution_count": 0,
      "outputs": [
        {
          "output_type": "display_data",
          "data": {
            "image/png": "[encoded data removed]",
            "text/plain": [
              "<Figure size 432x288 with 1 Axes>"
            ]
          },
          "metadata": {
            "tags": []
          }
        }
      ]
    },
    {
      "cell_type": "code",
      "metadata": {
        "colab_type": "code",
        "id": "W79oVHdmJ3MN",
        "colab": {}
      },
      "source": [
        "acc_values = history_dict['acc']\n",
        "test_acc_values = history_dict['val_acc']"
      ],
      "execution_count": 0,
      "outputs": []
    },
    {
      "cell_type": "code",
      "metadata": {
        "colab_type": "code",
        "outputId": "82d0d2eb-e280-433f-bbee-c9db1ed12092",
        "id": "s9slchsgJ3MP",
        "colab": {
          "base_uri": "https://localhost:8080/",
          "height": 295
        }
      },
      "source": [
        "plt.plot(epochs_range, acc_values, 'bo', label='Training accuracy')\n",
        "plt.plot(epochs_range, test_acc_values, 'ro', label='Test accuracy')\n",
        "plt.title('Training and test accuracy')\n",
        "plt.xlabel('Epochs')\n",
        "plt.ylabel('Accuracy')\n",
        "plt.legend()\n",
        "plt.show()"
      ],
      "execution_count": 0,
      "outputs": [
        {
          "output_type": "display_data",
          "data": {
            "image/png": "[encoded data removed]",
            "text/plain": [
              "<Figure size 432x288 with 1 Axes>"
            ]
          },
          "metadata": {
            "tags": []
          }
        }
      ]
    }
  ]
}