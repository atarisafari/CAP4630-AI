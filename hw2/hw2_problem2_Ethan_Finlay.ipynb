{
  "nbformat": 4,
  "nbformat_minor": 0,
  "metadata": {
    "colab": {
      "name": "hw2_problem2_Ethan_Finlay.ipynb",
      "provenance": [],
      "collapsed_sections": [],
      "include_colab_link": true
    },
    "kernelspec": {
      "name": "python3",
      "display_name": "Python 3"
    },
    "accelerator": "GPU"
  },
  "cells": [
    {
      "cell_type": "markdown",
      "metadata": {
        "id": "view-in-github",
        "colab_type": "text"
      },
      "source": [
        "<a href=\"https://colab.research.google.com/github/atarisafari/CAP4630-AI/blob/master/hw2/hw2_problem2_Ethan_Finlay.ipynb\" target=\"_parent\"><img src=\"https://colab.research.google.com/assets/colab-badge.svg\" alt=\"Open In Colab\"/></a>"
      ]
    },
    {
      "cell_type": "markdown",
      "metadata": {
        "id": "rt44vyY1xW9b",
        "colab_type": "text"
      },
      "source": [
        "# MNIST fashion data set\n",
        "Classification with dense layers, Problem 2"
      ]
    },
    {
      "cell_type": "markdown",
      "metadata": {
        "colab_type": "text",
        "id": "491u_NoLvZjb"
      },
      "source": [
        "# Underfit Model\n",
        "The model is far too simple and can't properly make rules for the training or test data. "
      ]
    },
    {
      "cell_type": "markdown",
      "metadata": {
        "colab_type": "text",
        "id": "K7eCBhdCvZje"
      },
      "source": [
        "## Loading the MNIST fashion data set"
      ]
    },
    {
      "cell_type": "code",
      "metadata": {
        "colab_type": "code",
        "id": "3nKroi6ivZjf",
        "outputId": "cc53cb0e-aa7f-4c61-f22d-86006ebaad95",
        "colab": {
          "base_uri": "https://localhost:8080/",
          "height": 153
        }
      },
      "source": [
        "%tensorflow_version 1.x\n",
        "import tensorflow as tf\n",
        "from tensorflow import keras\n",
        "\n",
        "fashion_mnist = keras.datasets.fashion_mnist\n",
        "\n",
        "(train_images, train_labels), (test_images, test_labels) = fashion_mnist.load_data()"
      ],
      "execution_count": 0,
      "outputs": [
        {
          "output_type": "stream",
          "text": [
            "Downloading data from https://storage.googleapis.com/tensorflow/tf-keras-datasets/train-labels-idx1-ubyte.gz\n",
            "32768/29515 [=================================] - 0s 0us/step\n",
            "Downloading data from https://storage.googleapis.com/tensorflow/tf-keras-datasets/train-images-idx3-ubyte.gz\n",
            "26427392/26421880 [==============================] - 0s 0us/step\n",
            "Downloading data from https://storage.googleapis.com/tensorflow/tf-keras-datasets/t10k-labels-idx1-ubyte.gz\n",
            "8192/5148 [===============================================] - 0s 0us/step\n",
            "Downloading data from https://storage.googleapis.com/tensorflow/tf-keras-datasets/t10k-images-idx3-ubyte.gz\n",
            "4423680/4422102 [==============================] - 0s 0us/step\n"
          ],
          "name": "stdout"
        }
      ]
    },
    {
      "cell_type": "markdown",
      "metadata": {
        "colab_type": "text",
        "id": "p_nx3rTzvZjj"
      },
      "source": [
        "## Assigning Classes"
      ]
    },
    {
      "cell_type": "code",
      "metadata": {
        "colab_type": "code",
        "id": "azfUfX5gvZj2",
        "colab": {}
      },
      "source": [
        "class_names = ['T-shirt/top', 'Trouser', 'Pullover', 'Dress', 'Coat',\n",
        "               'Sandal', 'Shirt', 'Sneaker', 'Bag', 'Ankle boot']"
      ],
      "execution_count": 0,
      "outputs": []
    },
    {
      "cell_type": "markdown",
      "metadata": {
        "colab_type": "text",
        "id": "DHdrNqlIvZj4"
      },
      "source": [
        "## Displaying some MNIST fashion items"
      ]
    },
    {
      "cell_type": "code",
      "metadata": {
        "colab_type": "code",
        "id": "wmwPNqiqvZj5",
        "colab": {}
      },
      "source": [
        "import matplotlib.pyplot as plt\n",
        "import numpy as np"
      ],
      "execution_count": 0,
      "outputs": []
    },
    {
      "cell_type": "code",
      "metadata": {
        "colab_type": "code",
        "outputId": "aa71b15f-3430-4882-c368-b356b654715c",
        "id": "dEWY-8HLvZj8",
        "colab": {
          "base_uri": "https://localhost:8080/",
          "height": 589
        }
      },
      "source": [
        "plt.figure(figsize=(10,10))\n",
        "indices = np.random.choice(np.arange(60000), size=25, replace=False)\n",
        "for i in range(25):\n",
        "    plt.subplot(5,5,i+1)\n",
        "    plt.xticks([])\n",
        "    plt.yticks([])\n",
        "    plt.grid(False)\n",
        "    plt.imshow(train_images[indices[i]], cmap=plt.cm.binary)\n",
        "    plt.xlabel(class_names[train_labels[indices[i]]])\n",
        "plt.show()"
      ],
      "execution_count": 0,
      "outputs": [
        {
          "output_type": "display_data",
          "data": {
            "image/png": "[encoded data removed]",
            "text/plain": [
              "<Figure size 720x720 with 25 Axes>"
            ]
          },
          "metadata": {
            "tags": []
          }
        }
      ]
    },
    {
      "cell_type": "markdown",
      "metadata": {
        "colab_type": "text",
        "id": "3yvdKN-7vZkC"
      },
      "source": [
        "## Preprocess the data"
      ]
    },
    {
      "cell_type": "code",
      "metadata": {
        "colab_type": "code",
        "id": "31d-ZzESvZkC",
        "colab": {}
      },
      "source": [
        "train_images = train_images / 255.0\n",
        "test_images = test_images / 255.0"
      ],
      "execution_count": 0,
      "outputs": []
    },
    {
      "cell_type": "markdown",
      "metadata": {
        "colab_type": "text",
        "id": "jYBeoCPWvZkK"
      },
      "source": [
        "## Build and Compile Model"
      ]
    },
    {
      "cell_type": "code",
      "metadata": {
        "colab_type": "code",
        "outputId": "4dce4c14-b05b-464a-aa42-5f8d10080331",
        "id": "BfjNqNDgvZkL",
        "colab": {
          "base_uri": "https://localhost:8080/",
          "height": 445
        }
      },
      "source": [
        "# set up the layers\n",
        "\n",
        "model = keras.Sequential([\n",
        "    keras.layers.Flatten(input_shape=(28, 28)), \n",
        "    keras.layers.Dense(10, activation=tf.nn.softmax) # The output layer is using softmax\n",
        "])\n",
        "\n",
        "# compile the model\n",
        "model.compile(optimizer='rmsprop', #Root Mean Square Propogation\n",
        "             loss='sparse_categorical_crossentropy', #sparse_categorical_crossentropy for integers\n",
        "             metrics=['accuracy'])\n",
        "\n",
        "# train the model\n",
        "epochs = 10\n",
        "history = model.fit(train_images, \n",
        "                      train_labels, \n",
        "                      epochs=epochs,  \n",
        "                      validation_data=(test_images, test_labels))"
      ],
      "execution_count": 0,
      "outputs": [
        {
          "output_type": "stream",
          "text": [
            "WARNING:tensorflow:From /usr/local/lib/python3.6/dist-packages/tensorflow_core/python/ops/resource_variable_ops.py:1630: calling BaseResourceVariable.__init__ (from tensorflow.python.ops.resource_variable_ops) with constraint is deprecated and will be removed in a future version.\n",
            "Instructions for updating:\n",
            "If using Keras pass *_constraint arguments to layers.\n",
            "Train on 60000 samples, validate on 10000 samples\n",
            "Epoch 1/10\n",
            "60000/60000 [==============================] - 6s 102us/sample - loss: 0.5924 - acc: 0.7987 - val_loss: 0.5150 - val_acc: 0.8242\n",
            "Epoch 2/10\n",
            "60000/60000 [==============================] - 5s 91us/sample - loss: 0.4712 - acc: 0.8424 - val_loss: 0.4964 - val_acc: 0.8347\n",
            "Epoch 3/10\n",
            "60000/60000 [==============================] - 5s 90us/sample - loss: 0.4521 - acc: 0.8499 - val_loss: 0.4778 - val_acc: 0.8403\n",
            "Epoch 4/10\n",
            "60000/60000 [==============================] - 5s 90us/sample - loss: 0.4409 - acc: 0.8550 - val_loss: 0.4832 - val_acc: 0.8394\n",
            "Epoch 5/10\n",
            "60000/60000 [==============================] - 5s 90us/sample - loss: 0.4348 - acc: 0.8567 - val_loss: 0.4818 - val_acc: 0.8421\n",
            "Epoch 6/10\n",
            "60000/60000 [==============================] - 6s 93us/sample - loss: 0.4304 - acc: 0.8579 - val_loss: 0.4751 - val_acc: 0.8427\n",
            "Epoch 7/10\n",
            "60000/60000 [==============================] - 6s 92us/sample - loss: 0.4279 - acc: 0.8595 - val_loss: 0.4738 - val_acc: 0.8454\n",
            "Epoch 8/10\n",
            "60000/60000 [==============================] - 5s 89us/sample - loss: 0.4259 - acc: 0.8612 - val_loss: 0.4899 - val_acc: 0.8418\n",
            "Epoch 9/10\n",
            "60000/60000 [==============================] - 5s 91us/sample - loss: 0.4243 - acc: 0.8609 - val_loss: 0.4760 - val_acc: 0.8477\n",
            "Epoch 10/10\n",
            "60000/60000 [==============================] - 5s 90us/sample - loss: 0.4221 - acc: 0.8636 - val_loss: 0.4802 - val_acc: 0.8465\n"
          ],
          "name": "stdout"
        }
      ]
    },
    {
      "cell_type": "markdown",
      "metadata": {
        "colab_type": "text",
        "id": "GlwAAgojvZkR"
      },
      "source": [
        "### Evaluate accuracy"
      ]
    },
    {
      "cell_type": "code",
      "metadata": {
        "colab_type": "code",
        "outputId": "71aab83c-1a60-4ba3-9d65-2b0e3f771ccf",
        "id": "kekig_NDvZkS",
        "colab": {
          "base_uri": "https://localhost:8080/",
          "height": 51
        }
      },
      "source": [
        "test_loss, test_acc = model.evaluate(test_images, test_labels)\n",
        "\n",
        "print('Test accuracy:', test_acc)"
      ],
      "execution_count": 0,
      "outputs": [
        {
          "output_type": "stream",
          "text": [
            "10000/10000 [==============================] - 1s 57us/sample - loss: 0.4802 - acc: 0.8465\n",
            "Test accuracy: 0.8465\n"
          ],
          "name": "stdout"
        }
      ]
    },
    {
      "cell_type": "markdown",
      "metadata": {
        "colab_type": "text",
        "id": "dsy9uVZ-vZkW"
      },
      "source": [
        "##Training/test loss/accuracy during training"
      ]
    },
    {
      "cell_type": "code",
      "metadata": {
        "colab_type": "code",
        "id": "x5YAPbldvZkY",
        "colab": {}
      },
      "source": [
        "history_dict = history.history\n",
        "loss_values = history_dict['loss']\n",
        "test_loss_values = history_dict['val_loss']\n",
        "epochs_range = range(1, epochs+1)"
      ],
      "execution_count": 0,
      "outputs": []
    },
    {
      "cell_type": "code",
      "metadata": {
        "colab_type": "code",
        "outputId": "420c4237-8e50-4034-c67c-15cfec5ac04d",
        "id": "0q42DFV4vZka",
        "colab": {
          "base_uri": "https://localhost:8080/",
          "height": 295
        }
      },
      "source": [
        "plt.plot(epochs_range, loss_values, 'bo', label='Training loss')\n",
        "plt.plot(epochs_range, test_loss_values, 'ro', label='Test loss')\n",
        "plt.title('Training and test loss')\n",
        "plt.xlabel('Epochs')\n",
        "plt.ylabel('Loss')\n",
        "plt.legend()\n",
        "plt.show()"
      ],
      "execution_count": 0,
      "outputs": [
        {
          "output_type": "display_data",
          "data": {
            "image/png": "[encoded data removed]",
            "text/plain": [
              "<Figure size 432x288 with 1 Axes>"
            ]
          },
          "metadata": {
            "tags": []
          }
        }
      ]
    },
    {
      "cell_type": "code",
      "metadata": {
        "colab_type": "code",
        "id": "4iOMzvQKvZkf",
        "colab": {}
      },
      "source": [
        "acc_values = history_dict['acc']\n",
        "test_acc_values = history_dict['val_acc']"
      ],
      "execution_count": 0,
      "outputs": []
    },
    {
      "cell_type": "code",
      "metadata": {
        "colab_type": "code",
        "outputId": "8a782be7-7b2b-4758-e260-9e8368dc951e",
        "id": "oe1PnTPnvZkj",
        "colab": {
          "base_uri": "https://localhost:8080/",
          "height": 295
        }
      },
      "source": [
        "plt.plot(epochs_range, acc_values, 'bo', label='Training accuracy')\n",
        "plt.plot(epochs_range, test_acc_values, 'ro', label='Test accuracy')\n",
        "plt.title('Training and test accuracy')\n",
        "plt.xlabel('Epochs')\n",
        "plt.ylabel('Accuracy')\n",
        "plt.legend()\n",
        "plt.show()"
      ],
      "execution_count": 0,
      "outputs": [
        {
          "output_type": "display_data",
          "data": {
            "image/png": "[encoded data removed]",
            "text/plain": [
              "<Figure size 432x288 with 1 Axes>"
            ]
          },
          "metadata": {
            "tags": []
          }
        }
      ]
    },
    {
      "cell_type": "markdown",
      "metadata": {
        "colab_type": "text",
        "id": "AkzGgQsWBZSY"
      },
      "source": [
        "# Overfit Model\n",
        "A model that overfits is essentially \"memorizing\" the training data rather than finding a general set of rules, as we'd expect. This can be due to overexposure to the training data (too many epochs) and/or an overcomplicated model. In this example the model is both too complicated and also trains for far too long  \n",
        "\n",
        "An overfit model will not be able to explain any test data that it wasnt explicitly trained on since all it did was memorize."
      ]
    },
    {
      "cell_type": "markdown",
      "metadata": {
        "colab_type": "text",
        "id": "zho0i2hZBZSr"
      },
      "source": [
        "## Loading the MNIST fashion data set"
      ]
    },
    {
      "cell_type": "code",
      "metadata": {
        "colab_type": "code",
        "id": "MKlTctCtBZSw",
        "colab": {
          "base_uri": "https://localhost:8080/",
          "height": 153
        },
        "outputId": "56e24ebd-7b67-4e1b-909c-7a871e70d29b"
      },
      "source": [
        "%tensorflow_version 1.x\n",
        "import tensorflow as tf\n",
        "from tensorflow import keras\n",
        "import matplotlib.pyplot as plt\n",
        "import numpy as np\n",
        "\n",
        "fashion_mnist = keras.datasets.fashion_mnist\n",
        "\n",
        "(train_images, train_labels), (test_images, test_labels) = fashion_mnist.load_data()"
      ],
      "execution_count": 1,
      "outputs": [
        {
          "output_type": "stream",
          "text": [
            "Downloading data from https://storage.googleapis.com/tensorflow/tf-keras-datasets/train-labels-idx1-ubyte.gz\n",
            "32768/29515 [=================================] - 0s 0us/step\n",
            "Downloading data from https://storage.googleapis.com/tensorflow/tf-keras-datasets/train-images-idx3-ubyte.gz\n",
            "26427392/26421880 [==============================] - 0s 0us/step\n",
            "Downloading data from https://storage.googleapis.com/tensorflow/tf-keras-datasets/t10k-labels-idx1-ubyte.gz\n",
            "8192/5148 [===============================================] - 0s 0us/step\n",
            "Downloading data from https://storage.googleapis.com/tensorflow/tf-keras-datasets/t10k-images-idx3-ubyte.gz\n",
            "4423680/4422102 [==============================] - 0s 0us/step\n"
          ],
          "name": "stdout"
        }
      ]
    },
    {
      "cell_type": "code",
      "metadata": {
        "colab_type": "code",
        "id": "GXA4n4FXBZTJ",
        "colab": {}
      },
      "source": [
        "class_names = ['T-shirt/top', 'Trouser', 'Pullover', 'Dress', 'Coat',\n",
        "               'Sandal', 'Shirt', 'Sneaker', 'Bag', 'Ankle boot']"
      ],
      "execution_count": 0,
      "outputs": []
    },
    {
      "cell_type": "markdown",
      "metadata": {
        "colab_type": "text",
        "id": "yjOuqDmBBZTc"
      },
      "source": [
        "## Preprocess the data"
      ]
    },
    {
      "cell_type": "code",
      "metadata": {
        "colab_type": "code",
        "id": "atEBCjvgBZTd",
        "colab": {}
      },
      "source": [
        "train_images = train_images / 255.0\n",
        "test_images = test_images / 255.0"
      ],
      "execution_count": 0,
      "outputs": []
    },
    {
      "cell_type": "markdown",
      "metadata": {
        "colab_type": "text",
        "id": "mwfCH7UpBZTg"
      },
      "source": [
        "##Build and Compile Model"
      ]
    },
    {
      "cell_type": "code",
      "metadata": {
        "colab_type": "code",
        "outputId": "4274c994-9807-418a-c684-ff836c76474f",
        "id": "BK2HgWPCBZTj",
        "colab": {
          "base_uri": "https://localhost:8080/",
          "height": 615
        }
      },
      "source": [
        "# set up the layers\n",
        "model = keras.Sequential([\n",
        "    keras.layers.Flatten(input_shape=(28, 28)), \n",
        "    keras.layers.Dense(784, activation=tf.nn.relu), #Hidden layer with 784 neurons and reLu(x) = max(0, x)\n",
        "    keras.layers.Dense(784*2, activation=tf.nn.leaky_relu), #Hidden layer with 1568 neurons and leaky_reLu(x) = max(0.01x, x)\n",
        "    keras.layers.Dense(784*2, activation=tf.nn.sigmoid), #Hidden layer with 1568 neurons\n",
        "    keras.layers.Dense(10, activation=tf.nn.softmax) # The output layer is using softmax\n",
        "])\n",
        "\n",
        "# compile the model\n",
        "model.compile(optimizer='adam', #Adaptive Moment Optimization\n",
        "             loss='sparse_categorical_crossentropy', #sparse_categorical_crossentropy for integers\n",
        "             metrics=['accuracy'])\n",
        "\n",
        "# train the model\n",
        "epochs = 55\n",
        "history = model.fit(train_images, \n",
        "                      train_labels, \n",
        "                      epochs=epochs,  \n",
        "                      validation_data=(test_images, test_labels))"
      ],
      "execution_count": 0,
      "outputs": [
        {
          "output_type": "stream",
          "text": [
            "WARNING:tensorflow:From /usr/local/lib/python3.6/dist-packages/tensorflow_core/python/ops/resource_variable_ops.py:1630: calling BaseResourceVariable.__init__ (from tensorflow.python.ops.resource_variable_ops) with constraint is deprecated and will be removed in a future version.\n",
            "Instructions for updating:\n",
            "If using Keras pass *_constraint arguments to layers.\n",
            "Train on 60000 samples, validate on 10000 samples\n",
            "Epoch 1/55\n",
            "60000/60000 [==============================] - 14s 231us/sample - loss: 0.5000 - acc: 0.8200 - val_loss: 0.4053 - val_acc: 0.8529\n",
            "Epoch 2/55\n",
            "60000/60000 [==============================] - 13s 214us/sample - loss: 0.3645 - acc: 0.8651 - val_loss: 0.3962 - val_acc: 0.8573\n",
            "Epoch 3/55\n",
            "60000/60000 [==============================] - 13s 217us/sample - loss: 0.3323 - acc: 0.8774 - val_loss: 0.3657 - val_acc: 0.8647\n",
            "Epoch 4/55\n",
            "60000/60000 [==============================] - 13s 219us/sample - loss: 0.3103 - acc: 0.8836 - val_loss: 0.3849 - val_acc: 0.8631\n",
            "Epoch 5/55\n",
            "60000/60000 [==============================] - 13s 217us/sample - loss: 0.2951 - acc: 0.8896 - val_loss: 0.3502 - val_acc: 0.8746\n",
            "Epoch 6/55\n",
            "60000/60000 [==============================] - 13s 216us/sample - loss: 0.2825 - acc: 0.8949 - val_loss: 0.3503 - val_acc: 0.8789\n",
            "Epoch 7/55\n",
            "60000/60000 [==============================] - 13s 216us/sample - loss: 0.2752 - acc: 0.8972 - val_loss: 0.3262 - val_acc: 0.8813\n",
            "Epoch 8/55\n",
            "60000/60000 [==============================] - 13s 214us/sample - loss: 0.2662 - acc: 0.9002 - val_loss: 0.3435 - val_acc: 0.8777\n",
            "Epoch 9/55\n",
            "60000/60000 [==============================] - 13s 215us/sample - loss: 0.2613 - acc: 0.9011 - val_loss: 0.3990 - val_acc: 0.8666\n",
            "Epoch 10/55\n",
            "60000/60000 [==============================] - 13s 214us/sample - loss: 0.2591 - acc: 0.9027 - val_loss: 0.3685 - val_acc: 0.8770\n",
            "Epoch 11/55\n",
            "60000/60000 [==============================] - 13s 213us/sample - loss: 0.2505 - acc: 0.9056 - val_loss: 0.3563 - val_acc: 0.8781\n",
            "Epoch 12/55\n",
            "60000/60000 [==============================] - 13s 212us/sample - loss: 0.2495 - acc: 0.9064 - val_loss: 0.3752 - val_acc: 0.8827\n",
            "Epoch 13/55\n",
            "60000/60000 [==============================] - 13s 212us/sample - loss: 0.2453 - acc: 0.9088 - val_loss: 0.3825 - val_acc: 0.8775\n",
            "Epoch 14/55\n",
            "60000/60000 [==============================] - 13s 212us/sample - loss: 0.2448 - acc: 0.9093 - val_loss: 0.3466 - val_acc: 0.8823\n",
            "Epoch 15/55\n",
            "13088/60000 [=====>........................] - ETA: 9s - loss: 0.2439 - acc: 0.9091"
          ],
          "name": "stdout"
        }
      ]
    },
    {
      "cell_type": "markdown",
      "metadata": {
        "colab_type": "text",
        "id": "i6JoBj18BZTr"
      },
      "source": [
        "### Evaluate accuracy"
      ]
    },
    {
      "cell_type": "code",
      "metadata": {
        "colab_type": "code",
        "outputId": "8e142ee8-07e9-4fae-ae76-fedff8d670c1",
        "id": "XZHD00cNBZTs",
        "colab": {
          "base_uri": "https://localhost:8080/",
          "height": 51
        }
      },
      "source": [
        "test_loss, test_acc = model.evaluate(test_images, test_labels)\n",
        "\n",
        "print('Test accuracy:', test_acc)"
      ],
      "execution_count": 0,
      "outputs": [
        {
          "output_type": "stream",
          "text": [
            "10000/10000 [==============================] - 1s 91us/sample - loss: 0.3580 - acc: 0.8830\n",
            "Test accuracy: 0.883\n"
          ],
          "name": "stdout"
        }
      ]
    },
    {
      "cell_type": "markdown",
      "metadata": {
        "colab_type": "text",
        "id": "8mc7L3E6BZTw"
      },
      "source": [
        "##Training/test loss/accuracy during training"
      ]
    },
    {
      "cell_type": "code",
      "metadata": {
        "colab_type": "code",
        "id": "RadgHjX4BZTy",
        "colab": {}
      },
      "source": [
        "history_dict = history.history\n",
        "loss_values = history_dict['loss']\n",
        "test_loss_values = history_dict['val_loss']\n",
        "epochs_range = range(1, epochs+1)"
      ],
      "execution_count": 0,
      "outputs": []
    },
    {
      "cell_type": "code",
      "metadata": {
        "colab_type": "code",
        "outputId": "56de5c1b-101e-48ea-c3ab-3157efc5d0c9",
        "id": "j6nWqsLuBZT3",
        "colab": {
          "base_uri": "https://localhost:8080/",
          "height": 295
        }
      },
      "source": [
        "plt.plot(epochs_range, loss_values, 'bo', label='Training loss')\n",
        "plt.plot(epochs_range, test_loss_values, 'ro', label='Test loss')\n",
        "plt.title('Training and test loss')\n",
        "plt.xlabel('Epochs')\n",
        "plt.ylabel('Loss')\n",
        "plt.legend()\n",
        "plt.show()"
      ],
      "execution_count": 0,
      "outputs": [
        {
          "output_type": "display_data",
          "data": {
            "image/png": "[encoded data removed]",
            "text/plain": [
              "<Figure size 432x288 with 1 Axes>"
            ]
          },
          "metadata": {
            "tags": []
          }
        }
      ]
    },
    {
      "cell_type": "code",
      "metadata": {
        "colab_type": "code",
        "id": "pVr8b2GuBZT_",
        "colab": {}
      },
      "source": [
        "acc_values = history_dict['acc']\n",
        "test_acc_values = history_dict['val_acc']"
      ],
      "execution_count": 0,
      "outputs": []
    },
    {
      "cell_type": "code",
      "metadata": {
        "colab_type": "code",
        "outputId": "a07a7be4-2856-469e-a043-7d4032badc92",
        "id": "SzuJKG25BZUC",
        "colab": {
          "base_uri": "https://localhost:8080/",
          "height": 295
        }
      },
      "source": [
        "plt.plot(epochs_range, acc_values, 'bo', label='Training accuracy')\n",
        "plt.plot(epochs_range, test_acc_values, 'ro', label='Test accuracy')\n",
        "plt.title('Training and test accuracy')\n",
        "plt.xlabel('Epochs')\n",
        "plt.ylabel('Accuracy')\n",
        "plt.legend()\n",
        "plt.show()"
      ],
      "execution_count": 0,
      "outputs": [
        {
          "output_type": "display_data",
          "data": {
            "image/png": "[encoded data removed]",
            "text/plain": [
              "<Figure size 432x288 with 1 Axes>"
            ]
          },
          "metadata": {
            "tags": []
          }
        }
      ]
    },
    {
      "cell_type": "markdown",
      "metadata": {
        "id": "xgdu0hitokUz",
        "colab_type": "text"
      },
      "source": [
        "# \"Pretty Good\" Model\n",
        "This model is 'just right'. Essentially, we didn't overcomplicate it or make it too simple, we didn't train for too many epochs, and we used dropout to the fight overfitting. "
      ]
    },
    {
      "cell_type": "markdown",
      "metadata": {
        "id": "l34GNy7tyNks",
        "colab_type": "text"
      },
      "source": [
        "## Loading the MNIST fashion data set"
      ]
    },
    {
      "cell_type": "code",
      "metadata": {
        "id": "FSJyddqGexl5",
        "colab_type": "code",
        "colab": {}
      },
      "source": [
        "%tensorflow_version 1.x\n",
        "import tensorflow as tf\n",
        "from tensorflow import keras\n",
        "import matplotlib.pyplot as plt\n",
        "import numpy as np\n",
        "\n",
        "fashion_mnist = keras.datasets.fashion_mnist\n",
        "\n",
        "(train_images, train_labels), (test_images, test_labels) = fashion_mnist.load_data()"
      ],
      "execution_count": 0,
      "outputs": []
    },
    {
      "cell_type": "code",
      "metadata": {
        "id": "aa2r6ZRcO7XV",
        "colab_type": "code",
        "colab": {}
      },
      "source": [
        "class_names = ['T-shirt/top', 'Trouser', 'Pullover', 'Dress', 'Coat',\n",
        "               'Sandal', 'Shirt', 'Sneaker', 'Bag', 'Ankle boot']"
      ],
      "execution_count": 0,
      "outputs": []
    },
    {
      "cell_type": "markdown",
      "metadata": {
        "id": "JC5iBT_0OCSl",
        "colab_type": "text"
      },
      "source": [
        "## Preprocess the data"
      ]
    },
    {
      "cell_type": "code",
      "metadata": {
        "id": "inugSPsZNytV",
        "colab_type": "code",
        "colab": {}
      },
      "source": [
        "train_images = train_images / 255.0\n",
        "test_images = test_images / 255.0"
      ],
      "execution_count": 0,
      "outputs": []
    },
    {
      "cell_type": "markdown",
      "metadata": {
        "id": "ud8O11Vya2jd",
        "colab_type": "text"
      },
      "source": [
        "##Build and Compile Model\n"
      ]
    },
    {
      "cell_type": "code",
      "metadata": {
        "id": "SgBZhVeEa2M0",
        "colab_type": "code",
        "outputId": "876824bc-2403-475b-ecc6-3ba35dae1d4d",
        "colab": {
          "base_uri": "https://localhost:8080/",
          "height": 1000
        }
      },
      "source": [
        "# set up the layers\n",
        "\n",
        "model = keras.Sequential([\n",
        "    keras.layers.Flatten(input_shape=(28, 28)), \n",
        "    keras.layers.Dropout(0.5), # Using dropout to fight overfitting\n",
        "    keras.layers.Dense(784, activation=tf.nn.relu), # Hidden layer with 784 neurons and reLu(x) = max(0, x)\n",
        "    keras.layers.Dense(28, activation=tf.nn.sigmoid), # Hidden layer with 1568 neurons and sigmoid(x) = 1/(1 + e^-x)\n",
        "    keras.layers.Dense(10, activation=tf.nn.softmax) # # The output layer is using softmax\n",
        "])\n",
        "\n",
        "# compile the model\n",
        "model.compile(optimizer='adam', #Adaptive Moment Optimization\n",
        "             loss='sparse_categorical_crossentropy', #sparse_categorical_crossentropy for integers\n",
        "             metrics=['accuracy'])\n",
        "\n",
        "# train the model\n",
        "epochs = 30\n",
        "history = model.fit(train_images, \n",
        "                      train_labels, \n",
        "                      epochs=epochs,  \n",
        "                      validation_data=(test_images, test_labels))"
      ],
      "execution_count": 0,
      "outputs": [
        {
          "output_type": "stream",
          "text": [
            "Train on 60000 samples, validate on 10000 samples\n",
            "Epoch 1/30\n",
            "60000/60000 [==============================] - 8s 126us/sample - loss: 0.6444 - acc: 0.7841 - val_loss: 0.4716 - val_acc: 0.8260\n",
            "Epoch 2/30\n",
            "60000/60000 [==============================] - 8s 126us/sample - loss: 0.4637 - acc: 0.8286 - val_loss: 0.4029 - val_acc: 0.8496\n",
            "Epoch 3/30\n",
            "60000/60000 [==============================] - 7s 124us/sample - loss: 0.4249 - acc: 0.8404 - val_loss: 0.3898 - val_acc: 0.8555\n",
            "Epoch 4/30\n",
            "60000/60000 [==============================] - 8s 126us/sample - loss: 0.4071 - acc: 0.8480 - val_loss: 0.3781 - val_acc: 0.8583\n",
            "Epoch 5/30\n",
            "60000/60000 [==============================] - 7s 124us/sample - loss: 0.3910 - acc: 0.8541 - val_loss: 0.3579 - val_acc: 0.8686\n",
            "Epoch 6/30\n",
            "60000/60000 [==============================] - 8s 127us/sample - loss: 0.3781 - acc: 0.8567 - val_loss: 0.3634 - val_acc: 0.8682\n",
            "Epoch 7/30\n",
            "60000/60000 [==============================] - 8s 126us/sample - loss: 0.3706 - acc: 0.8600 - val_loss: 0.3598 - val_acc: 0.8627\n",
            "Epoch 8/30\n",
            "60000/60000 [==============================] - 8s 126us/sample - loss: 0.3624 - acc: 0.8635 - val_loss: 0.3493 - val_acc: 0.8711\n",
            "Epoch 9/30\n",
            "60000/60000 [==============================] - 8s 127us/sample - loss: 0.3553 - acc: 0.8656 - val_loss: 0.3563 - val_acc: 0.8663\n",
            "Epoch 10/30\n",
            "60000/60000 [==============================] - 7s 125us/sample - loss: 0.3473 - acc: 0.8680 - val_loss: 0.3485 - val_acc: 0.8702\n",
            "Epoch 11/30\n",
            "60000/60000 [==============================] - 8s 126us/sample - loss: 0.3447 - acc: 0.8699 - val_loss: 0.3504 - val_acc: 0.8724\n",
            "Epoch 12/30\n",
            "60000/60000 [==============================] - 7s 125us/sample - loss: 0.3399 - acc: 0.8709 - val_loss: 0.3402 - val_acc: 0.8748\n",
            "Epoch 13/30\n",
            "60000/60000 [==============================] - 7s 123us/sample - loss: 0.3332 - acc: 0.8739 - val_loss: 0.3311 - val_acc: 0.8790\n",
            "Epoch 14/30\n",
            "60000/60000 [==============================] - 8s 126us/sample - loss: 0.3336 - acc: 0.8726 - val_loss: 0.3387 - val_acc: 0.8751\n",
            "Epoch 15/30\n",
            "60000/60000 [==============================] - 7s 124us/sample - loss: 0.3280 - acc: 0.8750 - val_loss: 0.3318 - val_acc: 0.8763\n",
            "Epoch 16/30\n",
            "60000/60000 [==============================] - 7s 124us/sample - loss: 0.3240 - acc: 0.8760 - val_loss: 0.3410 - val_acc: 0.8731\n",
            "Epoch 17/30\n",
            "60000/60000 [==============================] - 7s 124us/sample - loss: 0.3245 - acc: 0.8772 - val_loss: 0.3411 - val_acc: 0.8736\n",
            "Epoch 18/30\n",
            "60000/60000 [==============================] - 8s 126us/sample - loss: 0.3216 - acc: 0.8775 - val_loss: 0.3226 - val_acc: 0.8787\n",
            "Epoch 19/30\n",
            "60000/60000 [==============================] - 7s 125us/sample - loss: 0.3208 - acc: 0.8789 - val_loss: 0.3232 - val_acc: 0.8814\n",
            "Epoch 20/30\n",
            "60000/60000 [==============================] - 8s 130us/sample - loss: 0.3144 - acc: 0.8796 - val_loss: 0.3329 - val_acc: 0.8765\n",
            "Epoch 21/30\n",
            "60000/60000 [==============================] - 8s 126us/sample - loss: 0.3141 - acc: 0.8816 - val_loss: 0.3260 - val_acc: 0.8790\n",
            "Epoch 22/30\n",
            "60000/60000 [==============================] - 7s 124us/sample - loss: 0.3179 - acc: 0.8791 - val_loss: 0.3272 - val_acc: 0.8775\n",
            "Epoch 23/30\n",
            "60000/60000 [==============================] - 7s 124us/sample - loss: 0.3101 - acc: 0.8814 - val_loss: 0.3313 - val_acc: 0.8788\n",
            "Epoch 24/30\n",
            "60000/60000 [==============================] - 8s 126us/sample - loss: 0.3093 - acc: 0.8825 - val_loss: 0.3260 - val_acc: 0.8809\n",
            "Epoch 25/30\n",
            "60000/60000 [==============================] - 8s 126us/sample - loss: 0.3095 - acc: 0.8834 - val_loss: 0.3252 - val_acc: 0.8797\n",
            "Epoch 26/30\n",
            "60000/60000 [==============================] - 7s 124us/sample - loss: 0.3053 - acc: 0.8838 - val_loss: 0.3248 - val_acc: 0.8824\n",
            "Epoch 27/30\n",
            "60000/60000 [==============================] - 7s 122us/sample - loss: 0.3064 - acc: 0.8843 - val_loss: 0.3256 - val_acc: 0.8811\n",
            "Epoch 28/30\n",
            "60000/60000 [==============================] - 7s 122us/sample - loss: 0.3035 - acc: 0.8857 - val_loss: 0.3277 - val_acc: 0.8789\n",
            "Epoch 29/30\n",
            "60000/60000 [==============================] - 7s 122us/sample - loss: 0.3012 - acc: 0.8859 - val_loss: 0.3258 - val_acc: 0.8816\n",
            "Epoch 30/30\n",
            "60000/60000 [==============================] - 7s 124us/sample - loss: 0.3041 - acc: 0.8853 - val_loss: 0.3228 - val_acc: 0.8823\n"
          ],
          "name": "stdout"
        }
      ]
    },
    {
      "cell_type": "markdown",
      "metadata": {
        "id": "mORb9IwPP7oE",
        "colab_type": "text"
      },
      "source": [
        "### Evaluate accuracy"
      ]
    },
    {
      "cell_type": "code",
      "metadata": {
        "id": "rlKIF6ijOkiE",
        "colab_type": "code",
        "outputId": "6b64af2a-11a5-4687-cc07-866463562a3f",
        "colab": {
          "base_uri": "https://localhost:8080/",
          "height": 51
        }
      },
      "source": [
        "test_loss, test_acc = model.evaluate(test_images, test_labels)\n",
        "\n",
        "print('Test accuracy:', test_acc)"
      ],
      "execution_count": 0,
      "outputs": [
        {
          "output_type": "stream",
          "text": [
            "10000/10000 [==============================] - 1s 70us/sample - loss: 0.3228 - acc: 0.8823\n",
            "Test accuracy: 0.8823\n"
          ],
          "name": "stdout"
        }
      ]
    },
    {
      "cell_type": "markdown",
      "metadata": {
        "id": "GqbGdV6oXEyP",
        "colab_type": "text"
      },
      "source": [
        "##Training/test loss/accuracy during training\n",
        "\n"
      ]
    },
    {
      "cell_type": "code",
      "metadata": {
        "id": "3b5OCE5YTrEc",
        "colab_type": "code",
        "colab": {}
      },
      "source": [
        "history_dict = history.history\n",
        "loss_values = history_dict['loss']\n",
        "test_loss_values = history_dict['val_loss']\n",
        "epochs_range = range(1, epochs+1)"
      ],
      "execution_count": 0,
      "outputs": []
    },
    {
      "cell_type": "code",
      "metadata": {
        "id": "y98AOblYT3Pk",
        "colab_type": "code",
        "outputId": "617d8384-67d0-4aac-caf2-0a01e91de3a3",
        "colab": {
          "base_uri": "https://localhost:8080/",
          "height": 295
        }
      },
      "source": [
        "plt.plot(epochs_range, loss_values, 'bo', label='Training loss')\n",
        "plt.plot(epochs_range, test_loss_values, 'ro', label='Test loss')\n",
        "plt.title('Training and test loss')\n",
        "plt.xlabel('Epochs')\n",
        "plt.ylabel('Loss')\n",
        "plt.legend()\n",
        "plt.show()"
      ],
      "execution_count": 0,
      "outputs": [
        {
          "output_type": "display_data",
          "data": {
            "image/png": "[encoded data removed]",
            "text/plain": [
              "<Figure size 432x288 with 1 Axes>"
            ]
          },
          "metadata": {
            "tags": []
          }
        }
      ]
    },
    {
      "cell_type": "code",
      "metadata": {
        "id": "790AkDaTWuZU",
        "colab_type": "code",
        "colab": {}
      },
      "source": [
        "acc_values = history_dict['acc']\n",
        "test_acc_values = history_dict['val_acc']"
      ],
      "execution_count": 0,
      "outputs": []
    },
    {
      "cell_type": "code",
      "metadata": {
        "id": "7BkIfPQ4W39E",
        "colab_type": "code",
        "outputId": "0b9ce9ad-3c9a-4a4b-ca59-76c6342d03ac",
        "colab": {
          "base_uri": "https://localhost:8080/",
          "height": 295
        }
      },
      "source": [
        "plt.plot(epochs_range, acc_values, 'bo', label='Training accuracy')\n",
        "plt.plot(epochs_range, test_acc_values, 'ro', label='Test accuracy')\n",
        "plt.title('Training and test accuracy')\n",
        "plt.xlabel('Epochs')\n",
        "plt.ylabel('Accuracy')\n",
        "plt.legend()\n",
        "plt.show()"
      ],
      "execution_count": 0,
      "outputs": [
        {
          "output_type": "display_data",
          "data": {
            "image/png": "[encoded data removed]",
            "text/plain": [
              "<Figure size 432x288 with 1 Axes>"
            ]
          },
          "metadata": {
            "tags": []
          }
        }
      ]
    }
  ]
}