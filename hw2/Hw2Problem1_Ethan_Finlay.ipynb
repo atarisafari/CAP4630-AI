{
  "nbformat": 4,
  "nbformat_minor": 0,
  "metadata": {
    "colab": {
      "name": "Hw2Problem1_Ethan_Finlay.ipynb",
      "provenance": [],
      "collapsed_sections": [],
      "include_colab_link": true
    },
    "kernelspec": {
      "name": "python3",
      "display_name": "Python 3"
    }
  },
  "cells": [
    {
      "cell_type": "markdown",
      "metadata": {
        "id": "view-in-github",
        "colab_type": "text"
      },
      "source": [
        "<a href=\"https://colab.research.google.com/github/atarisafari/CAP4630-AI/blob/master/hw2/Hw2Problem1_Ethan_Finlay.ipynb\" target=\"_parent\"><img src=\"https://colab.research.google.com/assets/colab-badge.svg\" alt=\"Open In Colab\"/></a>"
      ]
    },
    {
      "cell_type": "markdown",
      "metadata": {
        "id": "LkqORxgcG_cP",
        "colab_type": "text"
      },
      "source": [
        "#Single Dense Layer Neural Network With Handcrafted Features\n",
        "####  For MNIST digit classificiation \n",
        "Ethan Finlay"
      ]
    },
    {
      "cell_type": "markdown",
      "metadata": {
        "id": "-oufFyUbHFUn",
        "colab_type": "text"
      },
      "source": [
        "#Initializing Data"
      ]
    },
    {
      "cell_type": "code",
      "metadata": {
        "id": "HaVH2SLlHM2C",
        "colab_type": "code",
        "outputId": "739cd08a-1d58-4734-8bb1-b650bb55ac30",
        "colab": {
          "base_uri": "https://localhost:8080/",
          "height": 68
        }
      },
      "source": [
        "%tensorflow_version 1.x\n",
        "import tensorflow as tf\n",
        "from keras import models\n",
        "from keras import layers\n",
        "import numpy as np\n",
        "import matplotlib.pyplot as plt\n",
        "\n",
        "\n",
        "mnist = tf.keras.datasets.mnist\n",
        "# Grabbing images and labels for the training and testing\n",
        "(training_images_initial, training_labels_initial), (test_images_initial, test_labels_initial) = mnist.load_data()\n",
        "# Reshaping the image data to be represented as vectors rather than matrices\n",
        "training_images = training_images_initial.reshape((60000, 28 * 28))\n",
        "test_images = test_images_initial.reshape((10000, 28 * 28))\n",
        "# Modifying data to be represented from a 0 to 1 scale\n",
        "training_images = training_images.astype('float32') / 255\n",
        "test_images = test_images.astype('float32') / 255"
      ],
      "execution_count": 1,
      "outputs": [
        {
          "output_type": "stream",
          "text": [
            "Using TensorFlow backend.\n"
          ],
          "name": "stderr"
        },
        {
          "output_type": "stream",
          "text": [
            "Downloading data from https://storage.googleapis.com/tensorflow/tf-keras-datasets/mnist.npz\n",
            "11493376/11490434 [==============================] - 1s 0us/step\n"
          ],
          "name": "stdout"
        }
      ]
    },
    {
      "cell_type": "markdown",
      "metadata": {
        "id": "J4zqFPHaIdZq",
        "colab_type": "text"
      },
      "source": [
        "# Handcrafted Features"
      ]
    },
    {
      "cell_type": "markdown",
      "metadata": {
        "id": "Ahww9qOZTUfV",
        "colab_type": "text"
      },
      "source": [
        "Extracting height and width from training set\n"
      ]
    },
    {
      "cell_type": "code",
      "metadata": {
        "id": "VbtN2zYQQQqu",
        "colab_type": "code",
        "colab": {}
      },
      "source": [
        "# Extracting dimensions of the input images\n",
        "(image_count, row_size, col_size) = training_images_initial.shape\n",
        "\n",
        "# Grab the indexes of the first 'black' pixels in each image\n",
        "(image_index, pos_cols, pos_rows) = np.where(training_images_initial > 0)\n",
        "\n",
        "training_heights = np.array([])\n",
        "training_widths = np.array([])\n",
        "offset = image_index[1:]\n",
        "offset = np.append(offset, image_index[0])\n",
        "last = np.where(image_index != offset)[0]\n",
        "offset = image_index[-1]\n",
        "offset = np.append(offset, image_index[:-1])\n",
        "first = np.where(image_index != offset)[0]\n",
        "\n",
        "# By subtracting the first and last \"black\" pixel vertically we can get our height\n",
        "training_heights = abs(pos_cols[last] - pos_cols[first]) + 1\n",
        "# Similarly, by doing so with first and last black pixel horizontally we get the width\n",
        "training_widths = abs(pos_rows[last] - pos_rows[first]) + 1\n",
        "\n",
        "#Re-shape vectors to be be compatible for concatenation with the dataset\n",
        "training_heights = training_heights.reshape(image_count, 1)\n",
        "training_widths = training_widths.reshape(image_count, 1)\n",
        "\n",
        "training_heights = training_heights.astype('float32') / col_size\n",
        "training_widths = training_widths.astype('float32') / row_size"
      ],
      "execution_count": 0,
      "outputs": []
    },
    {
      "cell_type": "markdown",
      "metadata": {
        "id": "Rf6WyZkNVsbB",
        "colab_type": "text"
      },
      "source": [
        "Extracting height and width for test image set"
      ]
    },
    {
      "cell_type": "code",
      "metadata": {
        "id": "3DM2dpJZVDA9",
        "colab_type": "code",
        "colab": {}
      },
      "source": [
        "# Extracting dimensions of the input images\n",
        "(image_count, row_size, col_size) = test_images_initial.shape\n",
        "\n",
        "# Grab the indexes of the first 'black' pixels in each image\n",
        "(image_index, pos_cols, pos_rows) = np.where(test_images_initial > 0)\n",
        "\n",
        "test_heights = np.array([])\n",
        "test_widths = np.array([])\n",
        "offset = image_index[1:]\n",
        "offset = np.append(offset, image_index[0])\n",
        "last = np.where(image_index != offset)[0]\n",
        "\n",
        "offset = image_index[-1]\n",
        "offset = np.append(offset, image_index[:-1])\n",
        "first = np.where(image_index != offset)[0]\n",
        "\n",
        "# By subtracting the first and last \"black\" pixel vertically we can get our height\n",
        "test_heights = abs(pos_cols[last] - pos_cols[first]) + 1\n",
        "# Similarly, by doing so with first and last black pixel horizontally we get the width\n",
        "test_widths = abs(pos_rows[last] - pos_rows[first]) + 1\n",
        "\n",
        "#Re-shape vectors to be be compatible for concatenation with the dataset\n",
        "test_heights = test_heights.reshape(image_count, 1)\n",
        "test_widths = test_widths.reshape(image_count, 1)\n",
        "\n",
        "test_heights = test_heights.astype('float32') / col_size\n",
        "test_widths = test_widths.astype('float32') / row_size"
      ],
      "execution_count": 0,
      "outputs": []
    },
    {
      "cell_type": "markdown",
      "metadata": {
        "id": "9jh5K-PqWQei",
        "colab_type": "text"
      },
      "source": [
        "#Introducing Handcrafted Feature to the Data"
      ]
    },
    {
      "cell_type": "markdown",
      "metadata": {
        "id": "ritqpJN4WXAT",
        "colab_type": "text"
      },
      "source": [
        "Training Dataset"
      ]
    },
    {
      "cell_type": "code",
      "metadata": {
        "id": "gy6HPaadWdTA",
        "colab_type": "code",
        "outputId": "47664db8-7f3f-47bc-da9e-30a3f6193e47",
        "colab": {
          "base_uri": "https://localhost:8080/",
          "height": 34
        }
      },
      "source": [
        "# add the 2 new features\n",
        "training_images = np.concatenate((training_images, training_heights), axis = 1)\n",
        "training_images = np.concatenate((training_images, training_widths), axis = 1)\n",
        "\n",
        "print('Size of training image dataset is now', end = '')\n",
        "print(training_images.shape)"
      ],
      "execution_count": 8,
      "outputs": [
        {
          "output_type": "stream",
          "text": [
            "Size of training image dataset is now(60000, 786)\n"
          ],
          "name": "stdout"
        }
      ]
    },
    {
      "cell_type": "markdown",
      "metadata": {
        "id": "0nvMCF-OWZKc",
        "colab_type": "text"
      },
      "source": [
        "Test Dataset"
      ]
    },
    {
      "cell_type": "code",
      "metadata": {
        "id": "Yvdk-6FPYhnN",
        "colab_type": "code",
        "outputId": "2d9e35d9-3678-4181-8c0c-dde5c2cca9c9",
        "colab": {
          "base_uri": "https://localhost:8080/",
          "height": 34
        }
      },
      "source": [
        "# add the 2 new features\n",
        "test_images = np.concatenate((test_images, test_heights), axis = 1)\n",
        "test_images = np.concatenate((test_images, test_widths), axis = 1)\n",
        "\n",
        "print('Size of test image dataset is now', end = '')\n",
        "print(test_images.shape)"
      ],
      "execution_count": 9,
      "outputs": [
        {
          "output_type": "stream",
          "text": [
            "Size of test image dataset is now(10000, 786)\n"
          ],
          "name": "stdout"
        }
      ]
    },
    {
      "cell_type": "markdown",
      "metadata": {
        "id": "ygxorVdit_dw",
        "colab_type": "text"
      },
      "source": [
        "# Creating the Model\n"
      ]
    },
    {
      "cell_type": "code",
      "metadata": {
        "id": "yLhvk1xouCMq",
        "colab_type": "code",
        "outputId": "547aafa5-2a63-42f4-bf6c-53a96710a1ac",
        "colab": {
          "base_uri": "https://localhost:8080/",
          "height": 343
        }
      },
      "source": [
        "from keras.utils import to_categorical\n",
        "\n",
        "training_labels = to_categorical(training_labels_initial)\n",
        "test_labels = to_categorical(test_labels_initial)\n",
        "\n",
        "model = models.Sequential()\n",
        "\n",
        "# Here we have a hidden layer with reLu(x) = max(0, x)\n",
        "model.add(layers.Dense(512, activation = tf.nn.relu, input_shape = (28 * 28 + 2,)))\n",
        "# For the output layer, we're using softmax with 10 neurons\n",
        "model.add(layers.Dense(10, activation= tf.nn.softmax))\n",
        "model.summary()"
      ],
      "execution_count": 10,
      "outputs": [
        {
          "output_type": "stream",
          "text": [
            "WARNING:tensorflow:From /usr/local/lib/python3.6/dist-packages/keras/backend/tensorflow_backend.py:66: The name tf.get_default_graph is deprecated. Please use tf.compat.v1.get_default_graph instead.\n",
            "\n",
            "WARNING:tensorflow:From /usr/local/lib/python3.6/dist-packages/keras/backend/tensorflow_backend.py:541: The name tf.placeholder is deprecated. Please use tf.compat.v1.placeholder instead.\n",
            "\n",
            "WARNING:tensorflow:From /usr/local/lib/python3.6/dist-packages/keras/backend/tensorflow_backend.py:4432: The name tf.random_uniform is deprecated. Please use tf.random.uniform instead.\n",
            "\n",
            "Model: \"sequential_1\"\n",
            "_________________________________________________________________\n",
            "Layer (type)                 Output Shape              Param #   \n",
            "=================================================================\n",
            "dense_1 (Dense)              (None, 512)               402944    \n",
            "_________________________________________________________________\n",
            "dense_2 (Dense)              (None, 10)                5130      \n",
            "=================================================================\n",
            "Total params: 408,074\n",
            "Trainable params: 408,074\n",
            "Non-trainable params: 0\n",
            "_________________________________________________________________\n"
          ],
          "name": "stdout"
        }
      ]
    },
    {
      "cell_type": "markdown",
      "metadata": {
        "id": "CvlT8P8yubQX",
        "colab_type": "text"
      },
      "source": [
        "# Training our Model"
      ]
    },
    {
      "cell_type": "code",
      "metadata": {
        "id": "byOxC3xNuf6Z",
        "colab_type": "code",
        "outputId": "dbd940c7-6111-4384-ae64-01154a10c3a8",
        "colab": {
          "base_uri": "https://localhost:8080/",
          "height": 785
        }
      },
      "source": [
        "# Compiling the model\n",
        "model.compile( optimizer='rmsprop', \n",
        "              loss='categorical_crossentropy', \n",
        "              metrics=['accuracy'])\n",
        "\n",
        "# Storing training history\n",
        "hist = model.fit(training_images,\n",
        "                 training_labels,\n",
        "                 epochs = 10,\n",
        "                 batch_size=128,\n",
        "                 validation_data=(test_images, test_labels))"
      ],
      "execution_count": 11,
      "outputs": [
        {
          "output_type": "stream",
          "text": [
            "WARNING:tensorflow:From /usr/local/lib/python3.6/dist-packages/keras/optimizers.py:793: The name tf.train.Optimizer is deprecated. Please use tf.compat.v1.train.Optimizer instead.\n",
            "\n",
            "WARNING:tensorflow:From /usr/local/lib/python3.6/dist-packages/keras/backend/tensorflow_backend.py:3576: The name tf.log is deprecated. Please use tf.math.log instead.\n",
            "\n",
            "WARNING:tensorflow:From /usr/local/lib/python3.6/dist-packages/tensorflow_core/python/ops/math_grad.py:1424: where (from tensorflow.python.ops.array_ops) is deprecated and will be removed in a future version.\n",
            "Instructions for updating:\n",
            "Use tf.where in 2.0, which has the same broadcast rule as np.where\n",
            "WARNING:tensorflow:From /usr/local/lib/python3.6/dist-packages/keras/backend/tensorflow_backend.py:1033: The name tf.assign_add is deprecated. Please use tf.compat.v1.assign_add instead.\n",
            "\n",
            "WARNING:tensorflow:From /usr/local/lib/python3.6/dist-packages/keras/backend/tensorflow_backend.py:1020: The name tf.assign is deprecated. Please use tf.compat.v1.assign instead.\n",
            "\n",
            "WARNING:tensorflow:From /usr/local/lib/python3.6/dist-packages/keras/backend/tensorflow_backend.py:3005: The name tf.Session is deprecated. Please use tf.compat.v1.Session instead.\n",
            "\n",
            "Train on 60000 samples, validate on 10000 samples\n",
            "Epoch 1/10\n",
            "WARNING:tensorflow:From /usr/local/lib/python3.6/dist-packages/keras/backend/tensorflow_backend.py:190: The name tf.get_default_session is deprecated. Please use tf.compat.v1.get_default_session instead.\n",
            "\n",
            "WARNING:tensorflow:From /usr/local/lib/python3.6/dist-packages/keras/backend/tensorflow_backend.py:197: The name tf.ConfigProto is deprecated. Please use tf.compat.v1.ConfigProto instead.\n",
            "\n",
            "WARNING:tensorflow:From /usr/local/lib/python3.6/dist-packages/keras/backend/tensorflow_backend.py:207: The name tf.global_variables is deprecated. Please use tf.compat.v1.global_variables instead.\n",
            "\n",
            "WARNING:tensorflow:From /usr/local/lib/python3.6/dist-packages/keras/backend/tensorflow_backend.py:216: The name tf.is_variable_initialized is deprecated. Please use tf.compat.v1.is_variable_initialized instead.\n",
            "\n",
            "WARNING:tensorflow:From /usr/local/lib/python3.6/dist-packages/keras/backend/tensorflow_backend.py:223: The name tf.variables_initializer is deprecated. Please use tf.compat.v1.variables_initializer instead.\n",
            "\n",
            "60000/60000 [==============================] - 6s 97us/step - loss: 0.2581 - acc: 0.9258 - val_loss: 0.1311 - val_acc: 0.9613\n",
            "Epoch 2/10\n",
            "60000/60000 [==============================] - 5s 84us/step - loss: 0.1063 - acc: 0.9686 - val_loss: 0.0868 - val_acc: 0.9729\n",
            "Epoch 3/10\n",
            "60000/60000 [==============================] - 5s 85us/step - loss: 0.0702 - acc: 0.9792 - val_loss: 0.0810 - val_acc: 0.9752\n",
            "Epoch 4/10\n",
            "60000/60000 [==============================] - 5s 86us/step - loss: 0.0516 - acc: 0.9848 - val_loss: 0.0766 - val_acc: 0.9759\n",
            "Epoch 5/10\n",
            "60000/60000 [==============================] - 5s 84us/step - loss: 0.0389 - acc: 0.9882 - val_loss: 0.0700 - val_acc: 0.9795\n",
            "Epoch 6/10\n",
            "60000/60000 [==============================] - 5s 85us/step - loss: 0.0298 - acc: 0.9906 - val_loss: 0.0661 - val_acc: 0.9804\n",
            "Epoch 7/10\n",
            "60000/60000 [==============================] - 5s 82us/step - loss: 0.0234 - acc: 0.9929 - val_loss: 0.0650 - val_acc: 0.9803\n",
            "Epoch 8/10\n",
            "60000/60000 [==============================] - 5s 84us/step - loss: 0.0180 - acc: 0.9947 - val_loss: 0.0832 - val_acc: 0.9762\n",
            "Epoch 9/10\n",
            "60000/60000 [==============================] - 5s 79us/step - loss: 0.0141 - acc: 0.9959 - val_loss: 0.0706 - val_acc: 0.9799\n",
            "Epoch 10/10\n",
            "60000/60000 [==============================] - 5s 88us/step - loss: 0.0108 - acc: 0.9969 - val_loss: 0.0716 - val_acc: 0.9805\n"
          ],
          "name": "stdout"
        }
      ]
    },
    {
      "cell_type": "markdown",
      "metadata": {
        "id": "BmirrTT31ODd",
        "colab_type": "text"
      },
      "source": [
        "# Training/test loss/accuracy during training"
      ]
    },
    {
      "cell_type": "code",
      "metadata": {
        "id": "HGKjIwhD1R1N",
        "colab_type": "code",
        "outputId": "b9248cd7-5a4e-4555-d046-7b3e1385b72e",
        "colab": {
          "base_uri": "https://localhost:8080/",
          "height": 295
        }
      },
      "source": [
        "hist_dict = hist.history\n",
        "\n",
        "training_loss_vals = hist_dict['loss']\n",
        "testing_loss_vals = hist_dict['val_loss']\n",
        "epoch_range = range(1, 11)\n",
        "\n",
        "plt.plot(epoch_range, training_loss_vals, 'bo', label='Training loss')\n",
        "plt.plot(epoch_range, testing_loss_vals, 'ro', label='Test Loss')\n",
        "plt.xlabel('Epochs')\n",
        "plt.ylabel('Loss')\n",
        "plt.title('Training and Test Loss')\n",
        "plt.legend()\n",
        "plt.show()"
      ],
      "execution_count": 12,
      "outputs": [
        {
          "output_type": "display_data",
          "data": {
            "image/png": "[encoded data removed]",
            "text/plain": [
              "<Figure size 432x288 with 1 Axes>"
            ]
          },
          "metadata": {
            "tags": []
          }
        }
      ]
    },
    {
      "cell_type": "code",
      "metadata": {
        "id": "v8C6MOC22dbw",
        "colab_type": "code",
        "outputId": "dac2630d-58ba-4d71-b7c8-025df03cc954",
        "colab": {
          "base_uri": "https://localhost:8080/",
          "height": 295
        }
      },
      "source": [
        "accurate_vals = hist_dict['acc']\n",
        "test_accurate_vals = hist_dict['val_acc']\n",
        "\n",
        "plt.plot(epoch_range, accurate_vals, 'bo', label='Training Accuracy')\n",
        "plt.plot(epoch_range, test_accurate_vals, 'ro', label='Test Accuracy')\n",
        "plt.xlabel('Epochs')\n",
        "plt.ylabel('Accuracy')\n",
        "plt.title('Training and Test Accuracy')\n",
        "plt.legend()\n",
        "plt.show()"
      ],
      "execution_count": 13,
      "outputs": [
        {
          "output_type": "display_data",
          "data": {
            "image/png": "[encoded data removed]",
            "text/plain": [
              "<Figure size 432x288 with 1 Axes>"
            ]
          },
          "metadata": {
            "tags": []
          }
        }
      ]
    }
  ]
}