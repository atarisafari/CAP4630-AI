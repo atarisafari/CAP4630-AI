{
  "nbformat": 4,
  "nbformat_minor": 0,
  "metadata": {
    "colab": {
      "name": "Copy of Hw2Problem1_Ethan_Finlay.ipynb",
      "provenance": [],
      "collapsed_sections": [],
      "include_colab_link": true
    },
    "kernelspec": {
      "name": "python3",
      "display_name": "Python 3"
    }
  },
  "cells": [
    {
      "cell_type": "markdown",
      "metadata": {
        "id": "view-in-github",
        "colab_type": "text"
      },
      "source": [
        "<a href=\"https://colab.research.google.com/github/atarisafari/CAP4630-AI/blob/master/hw2/Hw2Problem1_Ethan_Finlay.ipynb\" target=\"_parent\"><img src=\"https://colab.research.google.com/assets/colab-badge.svg\" alt=\"Open In Colab\"/></a>"
      ]
    },
    {
      "cell_type": "markdown",
      "metadata": {
        "id": "LkqORxgcG_cP",
        "colab_type": "text"
      },
      "source": [
        "#Single Dense Layer Neural Network With Handcrafted Features\n",
        "####  For MNIST digit classificiation \n",
        "Ethan Finlay"
      ]
    },
    {
      "cell_type": "markdown",
      "metadata": {
        "id": "-oufFyUbHFUn",
        "colab_type": "text"
      },
      "source": [
        "#Initializing Data"
      ]
    },
    {
      "cell_type": "code",
      "metadata": {
        "id": "HaVH2SLlHM2C",
        "colab_type": "code",
        "colab": {}
      },
      "source": [
        "%tensorflow_version 1.x\n",
        "import tensorflow as tf\n",
        "from keras import models\n",
        "from keras import layers\n",
        "import numpy as np\n",
        "import matplotlib.pyplot as plt\n",
        "\n",
        "\n",
        "mnist = tf.keras.datasets.mnist\n",
        "# Grabbing images and labels for the training and testing\n",
        "(training_images_initial, training_labels_initial), (test_images_initial, test_labels_initial) = mnist.load_data()\n",
        "# Reshaping the image data to be represented as vectors rather than matrices\n",
        "training_images = training_images_initial.reshape((60000, 28 * 28))\n",
        "test_images = test_images_initial.reshape((10000, 28 * 28))\n",
        "# Modifying data to be represented from a 0 to 1 scale\n",
        "training_images = training_images.astype('float32') / 255\n",
        "test_images = test_images.astype('float32') / 255"
      ],
      "execution_count": 0,
      "outputs": []
    },
    {
      "cell_type": "markdown",
      "metadata": {
        "id": "J4zqFPHaIdZq",
        "colab_type": "text"
      },
      "source": [
        "# Handcrafted Features"
      ]
    },
    {
      "cell_type": "markdown",
      "metadata": {
        "id": "Ahww9qOZTUfV",
        "colab_type": "text"
      },
      "source": [
        "Extracting height and width from training set\n"
      ]
    },
    {
      "cell_type": "code",
      "metadata": {
        "id": "VbtN2zYQQQqu",
        "colab_type": "code",
        "colab": {}
      },
      "source": [
        "# Extracting dimensions of the input images\n",
        "(image_count, row_size, col_size) = training_images_initial.shape\n",
        "\n",
        "# for each image in the original training dataset, we extract the pixels that are 'black'\n",
        "# and for each of those pixels we store the index of the image, the column of the pixel, and the row of the pixel\n",
        "(image_indeces, pos_cols, pos_rows) = np.where(training_images_initial > 0)\n",
        "\n",
        "temp = image_index[-1]\n",
        "temp = np.append(temp, image_indeces[:-1])\n",
        "first = np.where(image_indeces != temp)[0]\n",
        "\n",
        "temp = image_indeces[1:]\n",
        "temp = np.append(temp, image_indeces[0])\n",
        "last = np.where(image_indeces != temp)[0]\n",
        "\n",
        "## we'll use these to store the heights and widths of our handwritten digits\n",
        "training_heights = np.array([])\n",
        "training_widths = np.array([])\n",
        "\n",
        "# By subtracting the first and last \"black\" pixel vertically we can get our height for each image\n",
        "training_heights = abs(pos_cols[last] - pos_cols[first]) + 1\n",
        "# Similarly, by doing so with first and last black pixel horizontally we get the width for each image\n",
        "training_widths = abs(pos_rows[last] - pos_rows[first]) + 1\n",
        "\n",
        "#Re-shape vectors to be be compatible for concatenation with the dataset\n",
        "training_heights = training_heights.reshape(image_count, 1)\n",
        "training_widths = training_widths.reshape(image_count, 1)\n",
        "\n",
        "training_heights = training_heights.astype('float32') / col_size\n",
        "training_widths = training_widths.astype('float32') / row_size"
      ],
      "execution_count": 0,
      "outputs": []
    },
    {
      "cell_type": "markdown",
      "metadata": {
        "id": "Rf6WyZkNVsbB",
        "colab_type": "text"
      },
      "source": [
        "Extracting height and width for test image set"
      ]
    },
    {
      "cell_type": "code",
      "metadata": {
        "id": "3DM2dpJZVDA9",
        "colab_type": "code",
        "colab": {}
      },
      "source": [
        "# Extracting dimensions of the input images\n",
        "(image_count, row_size, col_size) = test_images_initial.shape\n",
        "\n",
        "# for each image in the original training dataset, we extract the pixels that are 'black'\n",
        "# and for each of those pixels we store the index of the image, the column of the pixel, and the row of the pixel\n",
        "(image_indeces, pos_cols, pos_rows) = np.where(test_images_initial > 0)\n",
        "\n",
        "offset = image_indeces[1:]\n",
        "offset = np.append(offset, image_indeces[0])\n",
        "last = np.where(image_indeces != offset)[0]\n",
        "\n",
        "offset = image_indeces[-1]\n",
        "offset = np.append(offset, image_indeces[:-1])\n",
        "first = np.where(image_indeces != offset)[0]\n",
        "\n",
        "test_heights = np.array([])\n",
        "test_widths = np.array([])\n",
        "\n",
        "# By subtracting the first and last \"black\" pixel vertically we can get our height\n",
        "test_heights = abs(pos_cols[last] - pos_cols[first]) + 1\n",
        "# Similarly, by doing so with first and last black pixel horizontally we get the width\n",
        "test_widths = abs(pos_rows[last] - pos_rows[first]) + 1\n",
        "\n",
        "#Re-shape vectors to be be compatible for concatenation with the dataset\n",
        "test_heights = test_heights.reshape(image_count, 1)\n",
        "test_widths = test_widths.reshape(image_count, 1)\n",
        "\n",
        "test_heights = test_heights.astype('float32') / col_size\n",
        "test_widths = test_widths.astype('float32') / row_size"
      ],
      "execution_count": 0,
      "outputs": []
    },
    {
      "cell_type": "markdown",
      "metadata": {
        "id": "9jh5K-PqWQei",
        "colab_type": "text"
      },
      "source": [
        "#Introducing Handcrafted Feature to the Data"
      ]
    },
    {
      "cell_type": "markdown",
      "metadata": {
        "id": "ritqpJN4WXAT",
        "colab_type": "text"
      },
      "source": [
        "Training Dataset"
      ]
    },
    {
      "cell_type": "code",
      "metadata": {
        "id": "gy6HPaadWdTA",
        "colab_type": "code",
        "outputId": "9c545338-e078-4ebc-d0a8-f9342d4e2c6a",
        "colab": {
          "base_uri": "https://localhost:8080/",
          "height": 34
        }
      },
      "source": [
        "# add the 2 new features\n",
        "training_images = np.concatenate((training_images, training_heights), axis = 1)\n",
        "training_images = np.concatenate((training_images, training_widths), axis = 1)\n",
        "\n",
        "print('Size of training image dataset is now', end = '')\n",
        "print(training_images.shape)"
      ],
      "execution_count": 28,
      "outputs": [
        {
          "output_type": "stream",
          "text": [
            "Size of training image dataset is now(60000, 786)\n"
          ],
          "name": "stdout"
        }
      ]
    },
    {
      "cell_type": "markdown",
      "metadata": {
        "id": "0nvMCF-OWZKc",
        "colab_type": "text"
      },
      "source": [
        "Test Dataset"
      ]
    },
    {
      "cell_type": "code",
      "metadata": {
        "id": "Yvdk-6FPYhnN",
        "colab_type": "code",
        "outputId": "be3dd870-a56e-4e77-8110-ea60802793e6",
        "colab": {
          "base_uri": "https://localhost:8080/",
          "height": 34
        }
      },
      "source": [
        "# add the 2 new features\n",
        "test_images = np.concatenate((test_images, test_heights), axis = 1)\n",
        "test_images = np.concatenate((test_images, test_widths), axis = 1)\n",
        "\n",
        "print('Size of test image dataset is now', end = '')\n",
        "print(test_images.shape)"
      ],
      "execution_count": 29,
      "outputs": [
        {
          "output_type": "stream",
          "text": [
            "Size of test image dataset is now(10000, 786)\n"
          ],
          "name": "stdout"
        }
      ]
    },
    {
      "cell_type": "markdown",
      "metadata": {
        "id": "ygxorVdit_dw",
        "colab_type": "text"
      },
      "source": [
        "# Creating the Model\n"
      ]
    },
    {
      "cell_type": "code",
      "metadata": {
        "id": "yLhvk1xouCMq",
        "colab_type": "code",
        "outputId": "b4b0112b-77a2-4bba-d3d4-e54ea353fc52",
        "colab": {
          "base_uri": "https://localhost:8080/",
          "height": 221
        }
      },
      "source": [
        "from keras.utils import to_categorical\n",
        "\n",
        "training_labels = to_categorical(training_labels_initial)\n",
        "test_labels = to_categorical(test_labels_initial)\n",
        "\n",
        "model = models.Sequential()\n",
        "# Here we have a hidden layer with reLu(x) = max(0, x)\n",
        "model.add(layers.Dense(512, activation = tf.nn.relu, input_shape = (28 * 28 + 2,)))\n",
        "# For the output layer, we're using softmax with 10 neurons\n",
        "model.add(layers.Dense(10, activation= tf.nn.softmax))\n",
        "model.summary()"
      ],
      "execution_count": 30,
      "outputs": [
        {
          "output_type": "stream",
          "text": [
            "Model: \"sequential_3\"\n",
            "_________________________________________________________________\n",
            "Layer (type)                 Output Shape              Param #   \n",
            "=================================================================\n",
            "dense_5 (Dense)              (None, 512)               402944    \n",
            "_________________________________________________________________\n",
            "dense_6 (Dense)              (None, 10)                5130      \n",
            "=================================================================\n",
            "Total params: 408,074\n",
            "Trainable params: 408,074\n",
            "Non-trainable params: 0\n",
            "_________________________________________________________________\n"
          ],
          "name": "stdout"
        }
      ]
    },
    {
      "cell_type": "markdown",
      "metadata": {
        "id": "CvlT8P8yubQX",
        "colab_type": "text"
      },
      "source": [
        "# Training our Model"
      ]
    },
    {
      "cell_type": "code",
      "metadata": {
        "id": "byOxC3xNuf6Z",
        "colab_type": "code",
        "outputId": "29685fc3-56fc-4dcb-a5f4-111f8366d0a0",
        "colab": {
          "base_uri": "https://localhost:8080/",
          "height": 374
        }
      },
      "source": [
        "# Compiling the model\n",
        "model.compile( optimizer='rmsprop', \n",
        "              loss='categorical_crossentropy', \n",
        "              metrics=['accuracy'])\n",
        "\n",
        "# Storing training history\n",
        "hist = model.fit(training_images,\n",
        "                 training_labels,\n",
        "                 epochs = 10,\n",
        "                 batch_size=128,\n",
        "                 validation_data=(test_images, test_labels))"
      ],
      "execution_count": 31,
      "outputs": [
        {
          "output_type": "stream",
          "text": [
            "Train on 60000 samples, validate on 10000 samples\n",
            "Epoch 1/10\n",
            "60000/60000 [==============================] - 4s 74us/step - loss: 0.2627 - acc: 0.9232 - val_loss: 0.1344 - val_acc: 0.9605\n",
            "Epoch 2/10\n",
            "60000/60000 [==============================] - 4s 73us/step - loss: 0.1073 - acc: 0.9686 - val_loss: 0.0936 - val_acc: 0.9711\n",
            "Epoch 3/10\n",
            "60000/60000 [==============================] - 4s 72us/step - loss: 0.0713 - acc: 0.9787 - val_loss: 0.0764 - val_acc: 0.9755\n",
            "Epoch 4/10\n",
            "60000/60000 [==============================] - 4s 71us/step - loss: 0.0513 - acc: 0.9844 - val_loss: 0.0769 - val_acc: 0.9782\n",
            "Epoch 5/10\n",
            "60000/60000 [==============================] - 4s 70us/step - loss: 0.0389 - acc: 0.9884 - val_loss: 0.0679 - val_acc: 0.9806\n",
            "Epoch 6/10\n",
            "60000/60000 [==============================] - 4s 71us/step - loss: 0.0303 - acc: 0.9908 - val_loss: 0.0690 - val_acc: 0.9798\n",
            "Epoch 7/10\n",
            "60000/60000 [==============================] - 4s 71us/step - loss: 0.0236 - acc: 0.9930 - val_loss: 0.0655 - val_acc: 0.9814\n",
            "Epoch 8/10\n",
            "60000/60000 [==============================] - 4s 71us/step - loss: 0.0178 - acc: 0.9947 - val_loss: 0.0657 - val_acc: 0.9814\n",
            "Epoch 9/10\n",
            "60000/60000 [==============================] - 4s 72us/step - loss: 0.0141 - acc: 0.9960 - val_loss: 0.0649 - val_acc: 0.9836\n",
            "Epoch 10/10\n",
            "60000/60000 [==============================] - 4s 72us/step - loss: 0.0114 - acc: 0.9967 - val_loss: 0.0702 - val_acc: 0.9821\n"
          ],
          "name": "stdout"
        }
      ]
    },
    {
      "cell_type": "markdown",
      "metadata": {
        "id": "BmirrTT31ODd",
        "colab_type": "text"
      },
      "source": [
        "# Training/test loss/accuracy during training"
      ]
    },
    {
      "cell_type": "code",
      "metadata": {
        "id": "HGKjIwhD1R1N",
        "colab_type": "code",
        "outputId": "30b700ca-c439-4716-ca77-7b9022e04b88",
        "colab": {
          "base_uri": "https://localhost:8080/",
          "height": 295
        }
      },
      "source": [
        "hist_dict = hist.history\n",
        "\n",
        "training_loss_vals = hist_dict['loss']\n",
        "testing_loss_vals = hist_dict['val_loss']\n",
        "epoch_range = range(1, 11)\n",
        "\n",
        "plt.plot(epoch_range, training_loss_vals, 'bo', label='Training loss')\n",
        "plt.plot(epoch_range, testing_loss_vals, 'ro', label='Test Loss')\n",
        "plt.xlabel('Epochs')\n",
        "plt.ylabel('Loss')\n",
        "plt.title('Training and Test Loss')\n",
        "plt.legend()\n",
        "plt.show()"
      ],
      "execution_count": 32,
      "outputs": [
        {
          "output_type": "display_data",
          "data": {
            "image/png": "[encoded data removed]",
            "text/plain": [
              "<Figure size 432x288 with 1 Axes>"
            ]
          },
          "metadata": {
            "tags": []
          }
        }
      ]
    },
    {
      "cell_type": "code",
      "metadata": {
        "id": "v8C6MOC22dbw",
        "colab_type": "code",
        "outputId": "5629cadf-6de5-4555-fce1-a8d2ee5c1927",
        "colab": {
          "base_uri": "https://localhost:8080/",
          "height": 295
        }
      },
      "source": [
        "accurate_vals = hist_dict['acc']\n",
        "test_accurate_vals = hist_dict['val_acc']\n",
        "\n",
        "plt.plot(epoch_range, accurate_vals, 'bo', label='Training Accuracy')\n",
        "plt.plot(epoch_range, test_accurate_vals, 'ro', label='Test Accuracy')\n",
        "plt.xlabel('Epochs')\n",
        "plt.ylabel('Accuracy')\n",
        "plt.title('Training and Test Accuracy')\n",
        "plt.legend()\n",
        "plt.show()"
      ],
      "execution_count": 33,
      "outputs": [
        {
          "output_type": "display_data",
          "data": {
            "image/png": "[encoded data removed]",
            "text/plain": [
              "<Figure size 432x288 with 1 Axes>"
            ]
          },
          "metadata": {
            "tags": []
          }
        }
      ]
    }
  ]
}